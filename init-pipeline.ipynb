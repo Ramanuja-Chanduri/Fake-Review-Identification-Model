{
  "cells": [
    {
      "cell_type": "markdown",
      "metadata": {
        "id": "view-in-github",
        "colab_type": "text"
      },
      "source": [
        "<a href=\"https://colab.research.google.com/github/Ramanuja-Chanduri/Fake-Review-Identification-Model/blob/main/init-pipeline.ipynb\" target=\"_parent\"><img src=\"https://colab.research.google.com/assets/colab-badge.svg\" alt=\"Open In Colab\"/></a>"
      ]
    },
    {
      "cell_type": "code",
      "execution_count": null,
      "metadata": {
        "id": "7vqTGx5XaVGm"
      },
      "outputs": [],
      "source": [
        "!pip install torch torchvision torchaudio numpy scipy scikit-image scikit-learn tqdm pandas matplotlib kymatio wandb -q"
      ]
    },
    {
      "cell_type": "code",
      "execution_count": null,
      "metadata": {
        "colab": {
          "base_uri": "https://localhost:8080/"
        },
        "id": "kaS70FxlbfZW",
        "outputId": "b93d5c54-a746-49b6-b145-f874fb6bb8c5"
      },
      "outputs": [
        {
          "output_type": "stream",
          "name": "stdout",
          "text": [
            "Drive already mounted at /content/drive; to attempt to forcibly remount, call drive.mount(\"/content/drive\", force_remount=True).\n"
          ]
        }
      ],
      "source": [
        "from google.colab import drive\n",
        "drive.mount('/content/drive')"
      ]
    },
    {
      "cell_type": "code",
      "execution_count": null,
      "metadata": {
        "id": "0uNji0qyahTl"
      },
      "outputs": [],
      "source": [
        "import numpy as np\n",
        "import matplotlib.pyplot as plt\n",
        "from scipy.signal import wiener\n",
        "from kymatio import Scattering1D\n",
        "import torch, torchaudio\n",
        "from torchaudio.transforms import Resample\n",
        "from torch.nn.functional import pad\n",
        "from tqdm import tqdm\n",
        "from torch.utils.data import DataLoader\n",
        "import torch\n",
        "import torch.optim as optim\n",
        "import wandb\n",
        "import torch.nn as nn\n",
        "import torch.nn.functional as F\n",
        "from torch.nn import BatchNorm2d\n",
        "from torchaudio.transforms import MelSpectrogram\n",
        "import torchvision.models as models\n",
        "from torch.utils.data import Dataset\n",
        "from sklearn.model_selection import train_test_split\n",
        "from sklearn.utils.class_weight import compute_class_weight\n",
        "import os\n",
        "import random\n",
        "import shutil"
      ]
    },
    {
      "cell_type": "code",
      "execution_count": null,
      "metadata": {
        "id": "P7DiwtapbZaJ"
      },
      "outputs": [],
      "source": [
        "class AudioPreprocessor:\n",
        "    def __init__(self,\n",
        "                 sample_rate=47600,\n",
        "                 target_samples=8000,\n",
        "                 valid_bit_depths=[16, 24, 32],\n",
        "                 min_duration_sec=0.1,\n",
        "                 max_duration_sec=10.0,\n",
        "                 device=None):\n",
        "\n",
        "        self.sample_rate = sample_rate\n",
        "        self.target_samples = target_samples\n",
        "        self.valid_bit_depths = valid_bit_depths\n",
        "        self.min_duration_sec = min_duration_sec\n",
        "        self.max_duration_sec = max_duration_sec\n",
        "        self.device = device if device else torch.device(\"cuda\" if torch.cuda.is_available() else \"cpu\")\n",
        "        self.resampler = None\n",
        "\n",
        "    def load_audio(self, filepath):\n",
        "        info = torchaudio.info(filepath)\n",
        "        if info.bits_per_sample not in self.valid_bit_depths:\n",
        "            return None, None\n",
        "\n",
        "        waveform, sr = torchaudio.load(filepath)\n",
        "\n",
        "        # Resample if needed\n",
        "        if sr != self.sample_rate:\n",
        "            if self.resampler is None or self.resampler.orig_freq != sr:\n",
        "                self.resampler = Resample(orig_freq=sr, new_freq=self.sample_rate)\n",
        "            waveform = self.resampler(waveform)\n",
        "\n",
        "        return waveform, self.sample_rate\n",
        "\n",
        "    def valid_duration(self, waveform):\n",
        "        duration = waveform.shape[1] / self.sample_rate\n",
        "        if duration < self.min_duration_sec:\n",
        "            return -1\n",
        "        elif duration > self.max_duration_sec:\n",
        "            return 1\n",
        "        else:\n",
        "            return 0\n",
        "\n",
        "    def center_cut_or_pad(self, waveform):\n",
        "        length = waveform.shape[1]\n",
        "\n",
        "        if length == self.target_samples:\n",
        "            return waveform\n",
        "        elif length > self.target_samples:\n",
        "            center = length // 2\n",
        "            left = center - (self.target_samples // 2)\n",
        "            return waveform[:, left:left+self.target_samples]\n",
        "        else:\n",
        "            pad_total = self.target_samples - length\n",
        "            pad_left = pad_total // 2\n",
        "            pad_right = pad_total - pad_left\n",
        "            return torch.nn.functional.pad(waveform, (pad_left, pad_right), mode='reflect')\n",
        "\n",
        "    def basic_preprocess(self, root_folder):\n",
        "        X_list = []\n",
        "        y_list = []\n",
        "\n",
        "        for root, dirs, files in os.walk(root_folder):\n",
        "            for file in tqdm(files, desc=f\"Processing {root}\"):\n",
        "                if file.endswith(\".wav\"):\n",
        "                    filepath = os.path.join(root, file)\n",
        "                    label = os.path.basename(os.path.dirname(filepath))\n",
        "\n",
        "                    # Load and resample audio\n",
        "                    waveform, sr = self.load_audio(filepath)\n",
        "                    if waveform is None:\n",
        "                        continue\n",
        "\n",
        "                    # Check if the duration is valid\n",
        "                    check = self.valid_duration(waveform)\n",
        "                    if check == -1:\n",
        "                        continue\n",
        "                    elif check == 1:\n",
        "                        # If too long, truncate to max duration\n",
        "                        max_samples = int(self.max_duration_sec * self.sample_rate)\n",
        "                        waveform = waveform[:, :max_samples]\n",
        "\n",
        "                    # Apply center cut or padding\n",
        "                    waveform = self.center_cut_or_pad(waveform)\n",
        "\n",
        "                    # Add the waveform and label to the lists\n",
        "                    X_list.append(waveform)\n",
        "                    y_list.append(label)\n",
        "\n",
        "        # Stack all tensors into one batch\n",
        "        X = torch.cat(X_list, dim=0).to(self.device)\n",
        "        y = np.array(y_list)\n",
        "\n",
        "        return X, y\n",
        "\n",
        "    def compute_mel(self, X, n_mels=32):\n",
        "        device = self.device\n",
        "        spectr = MelSpectrogram(\n",
        "            sample_rate=self.sample_rate,\n",
        "            n_mels=n_mels,\n",
        "            normalized=True,\n",
        "            window_fn=torch.hann_window\n",
        "        ).to(device)\n",
        "\n",
        "        X = X.to(device)\n",
        "        MX = spectr(X)\n",
        "        MX = MX.unsqueeze(1)  # [B, 1, n_mels, time]\n",
        "        return MX\n",
        "\n",
        "    def compute_wst(self, X, J=8, Q=14):\n",
        "        device = self.device\n",
        "        T = X.shape[1]\n",
        "        scattering = Scattering1D(J=J, shape=T, Q=Q)\n",
        "\n",
        "        X = X.detach().cpu().numpy()\n",
        "        SX = torch.from_numpy(scattering(X)).to(device)\n",
        "\n",
        "        # Normalize per scattering order\n",
        "        meta = scattering.meta()\n",
        "        order0 = np.where(meta['order'] == 0)[0]\n",
        "        order1 = np.where(meta['order'] == 1)[0]\n",
        "        order2 = np.where(meta['order'] == 2)[0]\n",
        "\n",
        "        def median_norm(X):\n",
        "            md = torch.median(X)\n",
        "            sn = torch.std(X)\n",
        "            return (X - md) / sn if sn > 1e-6 else X - md\n",
        "\n",
        "        SX_med = SX.clone()\n",
        "        for i in range(SX.shape[0]):\n",
        "            SX_med[i, order0] = median_norm(SX[i, order0])\n",
        "            SX_med[i, order1] = median_norm(SX[i, order1])\n",
        "            SX_med[i, order2] = median_norm(SX[i, order2])\n",
        "\n",
        "        SX_med = SX_med.unsqueeze(1)  # [B, 1, features]\n",
        "        return SX_med\n",
        "\n",
        "    def compute_mfcc(self, X, n_mfcc=13):\n",
        "        device = self.device\n",
        "        mfcc_transform = torchaudio.transforms.MFCC(\n",
        "            sample_rate=self.sample_rate,\n",
        "            n_mfcc=n_mfcc,\n",
        "            melkwargs={\n",
        "                'n_fft': 1024,\n",
        "                'n_mels': 32,\n",
        "                'hop_length': 512,\n",
        "                'mel_scale': 'htk'\n",
        "            }\n",
        "        ).to(device)\n",
        "\n",
        "        X = X.to(device)\n",
        "        MFCC_features = mfcc_transform(X)\n",
        "        MFCC_features = MFCC_features.unsqueeze(1)  # [B, 1, n_mfcc, time]\n",
        "        return MFCC_features"
      ]
    },
    {
      "cell_type": "code",
      "execution_count": null,
      "metadata": {
        "id": "wRIrd23wbeQQ"
      },
      "outputs": [],
      "source": [
        "DATA_PATH = '/content/drive/MyDrive/Data'\n",
        "BATCH_SIZE = 32"
      ]
    },
    {
      "cell_type": "code",
      "execution_count": null,
      "metadata": {
        "id": "55r2sm7qciMX"
      },
      "outputs": [],
      "source": [
        "preprocessor = AudioPreprocessor()"
      ]
    },
    {
      "cell_type": "code",
      "execution_count": null,
      "metadata": {
        "colab": {
          "base_uri": "https://localhost:8080/"
        },
        "id": "VI7ysoTjdhRJ",
        "outputId": "57ef9b48-622b-4144-ed3b-5cc58ead0f61"
      },
      "outputs": [
        {
          "output_type": "stream",
          "name": "stderr",
          "text": [
            "Processing /content/drive/MyDrive/Data: 0it [00:00, ?it/s]\n",
            "Processing /content/drive/MyDrive/Data/atlantic_spotted_dolphin: 100%|██████████| 58/58 [00:02<00:00, 27.67it/s]\n",
            "Processing /content/drive/MyDrive/Data/clymene_dolphin: 100%|██████████| 63/63 [00:02<00:00, 24.64it/s]\n",
            "Processing /content/drive/MyDrive/Data/bottlenose_dolphin: 100%|██████████| 24/24 [00:00<00:00, 29.51it/s]\n",
            "Processing /content/drive/MyDrive/Data/pantropical_spotted_dolphin: 100%|██████████| 66/66 [00:02<00:00, 26.98it/s]\n",
            "Processing /content/drive/MyDrive/Data/common_dolphin: 100%|██████████| 52/52 [00:02<00:00, 19.58it/s]\n",
            "Processing /content/drive/MyDrive/Data/spinner_dolphin: 100%|██████████| 114/114 [00:04<00:00, 23.58it/s]\n",
            "Processing /content/drive/MyDrive/Data/white_beaked_dolphin: 100%|██████████| 57/57 [00:02<00:00, 28.00it/s]\n",
            "Processing /content/drive/MyDrive/Data/rough_toothed_dolphin: 100%|██████████| 50/50 [00:01<00:00, 36.97it/s]\n",
            "Processing /content/drive/MyDrive/Data/white_sided_dolphin: 100%|██████████| 55/55 [00:02<00:00, 24.20it/s]\n",
            "Processing /content/drive/MyDrive/Data/striped_dolphin: 100%|██████████| 81/81 [00:03<00:00, 23.89it/s]\n",
            "Processing /content/drive/MyDrive/Data/frasers_dolphin: 100%|██████████| 87/87 [00:04<00:00, 21.66it/s]\n",
            "Processing /content/drive/MyDrive/Data/grampus_rissos_dolphin: 100%|██████████| 67/67 [00:02<00:00, 31.07it/s]\n",
            "Processing /content/drive/MyDrive/Data/long_finned_pilot_whale: 100%|██████████| 69/69 [00:02<00:00, 23.65it/s]\n",
            "Processing /content/drive/MyDrive/Data/short_finned_pilot_whale: 100%|██████████| 122/122 [00:05<00:00, 21.66it/s]\n",
            "Processing /content/drive/MyDrive/Data/humpback_whale: 100%|██████████| 63/63 [00:03<00:00, 18.52it/s]\n",
            "Processing /content/drive/MyDrive/Data/minke_whale: 100%|██████████| 17/17 [00:00<00:00, 166.59it/s]\n",
            "Processing /content/drive/MyDrive/Data/southern_right_whale: 100%|██████████| 25/25 [00:00<00:00, 97.65it/s]\n",
            "Processing /content/drive/MyDrive/Data/white_whale: 100%|██████████| 50/50 [00:01<00:00, 30.42it/s]\n",
            "Processing /content/drive/MyDrive/Data/killer_whale: 100%|██████████| 36/36 [00:01<00:00, 18.51it/s]\n",
            "Processing /content/drive/MyDrive/Data/melon_headed_whale: 100%|██████████| 64/64 [00:01<00:00, 33.90it/s]\n",
            "Processing /content/drive/MyDrive/Data/sperm_whale: 100%|██████████| 71/71 [00:05<00:00, 13.10it/s]\n",
            "Processing /content/drive/MyDrive/Data/northern_right_whale: 100%|██████████| 54/54 [00:01<00:00, 51.93it/s]\n",
            "Processing /content/drive/MyDrive/Data/false_killer_whale: 100%|██████████| 59/59 [00:02<00:00, 29.46it/s]\n",
            "Processing /content/drive/MyDrive/Data/finback_whale: 100%|██████████| 50/50 [00:01<00:00, 30.50it/s]\n",
            "Processing /content/drive/MyDrive/Data/bowhead_whale: 100%|██████████| 60/60 [00:01<00:00, 33.45it/s]\n"
          ]
        }
      ],
      "source": [
        "X, y = preprocessor.basic_preprocess(DATA_PATH)"
      ]
    },
    {
      "cell_type": "code",
      "execution_count": null,
      "metadata": {
        "colab": {
          "base_uri": "https://localhost:8080/"
        },
        "id": "pTqZnS8Mdwq8",
        "outputId": "54e21da0-9370-4148-8f69-393bedf76dcd"
      },
      "outputs": [
        {
          "output_type": "stream",
          "name": "stdout",
          "text": [
            "torch.Size([1501, 8000])\n"
          ]
        }
      ],
      "source": [
        "print(X.shape)"
      ]
    },
    {
      "cell_type": "code",
      "execution_count": null,
      "metadata": {
        "id": "IB4GtBNjeXPV"
      },
      "outputs": [],
      "source": [
        "mel_features = preprocessor.compute_mel(X)\n",
        "wst_features = preprocessor.compute_wst(X)\n",
        "mfcc_features = preprocessor.compute_mfcc(X)"
      ]
    },
    {
      "cell_type": "code",
      "execution_count": null,
      "metadata": {
        "colab": {
          "base_uri": "https://localhost:8080/"
        },
        "id": "oYoYuU_hz1YE",
        "outputId": "848f13e3-ba69-4e2f-a79b-765119d76406"
      },
      "outputs": [
        {
          "output_type": "stream",
          "name": "stdout",
          "text": [
            "{0: 'atlantic_spotted_dolphin', 1: 'bottlenose_dolphin', 2: 'bowhead_whale', 3: 'clymene_dolphin', 4: 'common_dolphin', 5: 'false_killer_whale', 6: 'finback_whale', 7: 'frasers_dolphin', 8: 'grampus_rissos_dolphin', 9: 'humpback_whale', 10: 'killer_whale', 11: 'long_finned_pilot_whale', 12: 'melon_headed_whale', 13: 'minke_whale', 14: 'northern_right_whale', 15: 'pantropical_spotted_dolphin', 16: 'rough_toothed_dolphin', 17: 'short_finned_pilot_whale', 18: 'southern_right_whale', 19: 'sperm_whale', 20: 'spinner_dolphin', 21: 'striped_dolphin', 22: 'white_beaked_dolphin', 23: 'white_sided_dolphin', 24: 'white_whale'}\n",
            "{'atlantic_spotted_dolphin': 0, 'bottlenose_dolphin': 1, 'bowhead_whale': 2, 'clymene_dolphin': 3, 'common_dolphin': 4, 'false_killer_whale': 5, 'finback_whale': 6, 'frasers_dolphin': 7, 'grampus_rissos_dolphin': 8, 'humpback_whale': 9, 'killer_whale': 10, 'long_finned_pilot_whale': 11, 'melon_headed_whale': 12, 'minke_whale': 13, 'northern_right_whale': 14, 'pantropical_spotted_dolphin': 15, 'rough_toothed_dolphin': 16, 'short_finned_pilot_whale': 17, 'southern_right_whale': 18, 'sperm_whale': 19, 'spinner_dolphin': 20, 'striped_dolphin': 21, 'white_beaked_dolphin': 22, 'white_sided_dolphin': 23, 'white_whale': 24}\n",
            "25\n"
          ]
        }
      ],
      "source": [
        "CLASSES = np.unique(y)\n",
        "NUM_CLASSES = len(CLASSES)\n",
        "ID2LABEL = {i: category.item() for i, category  in enumerate(CLASSES)}\n",
        "LABEL2ID = {v : k for k, v in ID2LABEL.items()}\n",
        "\n",
        "labels = torch.tensor([LABEL2ID[label] for label in y])\n",
        "print(ID2LABEL)\n",
        "print(LABEL2ID)\n",
        "print(NUM_CLASSES)"
      ]
    },
    {
      "cell_type": "code",
      "execution_count": null,
      "metadata": {
        "colab": {
          "base_uri": "https://localhost:8080/"
        },
        "id": "Zz_JgpD8epdT",
        "outputId": "6968dbc2-f578-445f-c67f-f263f101cc68"
      },
      "outputs": [
        {
          "output_type": "stream",
          "name": "stdout",
          "text": [
            "torch.Size([1501, 1, 32, 41])\n",
            "torch.Size([1501, 1, 386, 31])\n",
            "torch.Size([1501, 1, 13, 16])\n",
            "torch.Size([1501])\n"
          ]
        }
      ],
      "source": [
        "print(mel_features.shape)\n",
        "print(wst_features.shape)\n",
        "print(mfcc_features.shape)\n",
        "print(labels.shape)"
      ]
    },
    {
      "cell_type": "code",
      "source": [
        "def visualize_samples(feature_tensor, feature_name='Feature', cmap=\"gray\"):\n",
        "    indices = random.sample(range(feature_tensor.shape[0]), 3)\n",
        "    fig, axes = plt.subplots(1, 3, figsize=(12, 4))\n",
        "    for i, idx in enumerate(indices):\n",
        "        data = feature_tensor[idx][0].cpu().numpy()\n",
        "        axes[i].imshow(data, cmap=cmap, aspect='auto')\n",
        "        axes[i].set_title(f'{feature_name} - Random Sample {i + 1}')\n",
        "        axes[i].axis('off')\n",
        "\n",
        "    plt.tight_layout()\n",
        "    plt.show()"
      ],
      "metadata": {
        "id": "q9Ego_p6jd0M"
      },
      "execution_count": null,
      "outputs": []
    },
    {
      "cell_type": "code",
      "source": [
        "visualize_samples(mel_features, \"MEL\", \"viridis\")"
      ],
      "metadata": {
        "colab": {
          "base_uri": "https://localhost:8080/",
          "height": 407
        },
        "id": "ttelHtQfjdxj",
        "outputId": "116c47bf-a606-40c7-934f-ffe878b72632"
      },
      "execution_count": null,
      "outputs": [
        {
          "output_type": "display_data",
          "data": {
            "text/plain": [
              "<Figure size 1200x400 with 3 Axes>"
            ],
            "image/png": "[encoded data removed]"
          },
          "metadata": {}
        }
      ]
    },
    {
      "cell_type": "code",
      "source": [
        "visualize_samples(wst_features, \"WST\")"
      ],
      "metadata": {
        "colab": {
          "base_uri": "https://localhost:8080/",
          "height": 407
        },
        "id": "qwr22QhKjdr9",
        "outputId": "50a82d97-b9d2-44e2-eedb-c0ba60af3283"
      },
      "execution_count": null,
      "outputs": [
        {
          "output_type": "display_data",
          "data": {
            "text/plain": [
              "<Figure size 1200x400 with 3 Axes>"
            ],
            "image/png": "[encoded data removed]"
          },
          "metadata": {}
        }
      ]
    },
    {
      "cell_type": "code",
      "source": [
        "visualize_samples(mfcc_features, \"MFCC\", \"inferno\")"
      ],
      "metadata": {
        "colab": {
          "base_uri": "https://localhost:8080/",
          "height": 407
        },
        "id": "ql-FXebvrDBr",
        "outputId": "06dda65b-ad1d-4fb2-fdf4-4c6c6f1bf1a1"
      },
      "execution_count": null,
      "outputs": [
        {
          "output_type": "display_data",
          "data": {
            "text/plain": [
              "<Figure size 1200x400 with 3 Axes>"
            ],
            "image/png": "[encoded data removed]"
          },
          "metadata": {}
        }
      ]
    },
    {
      "cell_type": "code",
      "execution_count": null,
      "metadata": {
        "id": "uI8CQah4z5I7"
      },
      "outputs": [],
      "source": [
        "class CetaceanDataset(Dataset):\n",
        "    def __init__(self, mfcc, wst, mel, labels):\n",
        "        self.mfcc = mfcc\n",
        "        self.wst = wst\n",
        "        self.mel = mel\n",
        "        self.labels = labels\n",
        "\n",
        "    def __len__(self):\n",
        "        return len(self.labels)\n",
        "\n",
        "    def __getitem__(self, idx):\n",
        "        return self.mfcc[idx], self.wst[idx], self.mel[idx], self.labels[idx]"
      ]
    },
    {
      "cell_type": "code",
      "source": [
        "class MFCCDataset(Dataset):\n",
        "    def __init__(self, mfcc, labels):\n",
        "        self.mfcc = mfcc\n",
        "        self.labels = labels\n",
        "\n",
        "    def __len__(self):\n",
        "        return len(self.labels)\n",
        "\n",
        "    def __getitem__(self, idx):\n",
        "        return self.mfcc[idx], self.labels[idx]"
      ],
      "metadata": {
        "id": "JTObDAf1HKfO"
      },
      "execution_count": null,
      "outputs": []
    },
    {
      "cell_type": "code",
      "source": [
        "class WSTDataset(Dataset):\n",
        "    def __init__(self, wst, labels):\n",
        "        self.wst = wst\n",
        "        self.labels = labels\n",
        "\n",
        "    def __len__(self):\n",
        "        return len(self.labels)\n",
        "\n",
        "    def __getitem__(self, idx):\n",
        "        return self.wst[idx], self.labels[idx]"
      ],
      "metadata": {
        "id": "0rBi1Q09HKcc"
      },
      "execution_count": null,
      "outputs": []
    },
    {
      "cell_type": "code",
      "source": [
        "class MELDataset(Dataset):\n",
        "    def __init__(self, mel, labels):\n",
        "        self.mel = mel\n",
        "        self.labels = labels\n",
        "\n",
        "    def __len__(self):\n",
        "        return len(self.labels)\n",
        "\n",
        "    def __getitem__(self, idx):\n",
        "        return self.mel[idx], self.labels[idx]"
      ],
      "metadata": {
        "id": "TCd5JGXSHKZe"
      },
      "execution_count": null,
      "outputs": []
    },
    {
      "cell_type": "code",
      "source": [
        "indices = np.random.permutation(len(labels))\n",
        "train_idx, val_idx = train_test_split(indices, test_size=0.2, stratify=labels.numpy(), random_state=42)"
      ],
      "metadata": {
        "id": "iAnYeF1IHVbA"
      },
      "execution_count": null,
      "outputs": []
    },
    {
      "cell_type": "code",
      "execution_count": null,
      "metadata": {
        "id": "QfRep9Ro0qSP"
      },
      "outputs": [],
      "source": [
        "# For MFCC\n",
        "train_mfcc_dataset = MFCCDataset(mfcc_features[train_idx], labels[train_idx])\n",
        "val_mfcc_dataset = MFCCDataset(mfcc_features[val_idx], labels[val_idx])\n",
        "\n",
        "train_mfcc_loader = DataLoader(train_mfcc_dataset, batch_size=BATCH_SIZE, shuffle=True)\n",
        "val_mfcc_loader = DataLoader(val_mfcc_dataset, batch_size=BATCH_SIZE, shuffle=False)\n",
        "\n",
        "# For WST\n",
        "train_wst_dataset = WSTDataset(wst_features[train_idx], labels[train_idx])\n",
        "val_wst_dataset = WSTDataset(wst_features[val_idx], labels[val_idx])\n",
        "\n",
        "train_wst_loader = DataLoader(train_wst_dataset, batch_size=BATCH_SIZE, shuffle=True)\n",
        "val_wst_loader = DataLoader(val_wst_dataset, batch_size=BATCH_SIZE, shuffle=False)\n",
        "\n",
        "# For MEL\n",
        "train_mel_dataset = MELDataset(mel_features[train_idx], labels[train_idx])\n",
        "val_mel_dataset = MELDataset(mel_features[val_idx], labels[val_idx])\n",
        "\n",
        "train_mel_loader = DataLoader(train_mel_dataset, batch_size=BATCH_SIZE, shuffle=True)\n",
        "val_mel_loader = DataLoader(val_mel_dataset, batch_size=BATCH_SIZE, shuffle=False)\n",
        "\n",
        "# For Cetacean Net\n",
        "train_dataset = CetaceanDataset(mfcc_features[train_idx], wst_features[train_idx], mel_features[train_idx], labels[train_idx])\n",
        "val_dataset = CetaceanDataset(mfcc_features[val_idx], wst_features[val_idx], mel_features[val_idx], labels[val_idx])\n",
        "\n",
        "train_loader = DataLoader(train_dataset, batch_size=BATCH_SIZE, shuffle=True)\n",
        "val_loader = DataLoader(val_dataset, batch_size=BATCH_SIZE, shuffle=False)"
      ]
    },
    {
      "cell_type": "code",
      "execution_count": null,
      "metadata": {
        "colab": {
          "base_uri": "https://localhost:8080/"
        },
        "id": "ZbJP6-Qk1cMg",
        "outputId": "54c508b4-d3c1-4d87-c446-9ab4a32c2176"
      },
      "outputs": [
        {
          "output_type": "stream",
          "name": "stdout",
          "text": [
            "MFCC Train Loader:\n",
            "Data shape: torch.Size([32, 1, 13, 16])\n",
            "Label shape: torch.Size([32])\n",
            "\n",
            "MFCC Validation Loader:\n",
            "Data shape: torch.Size([32, 1, 13, 16])\n",
            "Label shape: torch.Size([32])\n",
            "\n",
            "WST Train Loader:\n",
            "Data shape: torch.Size([32, 1, 386, 31])\n",
            "Label shape: torch.Size([32])\n",
            "\n",
            "WST Validation Loader:\n",
            "Data shape: torch.Size([32, 1, 386, 31])\n",
            "Label shape: torch.Size([32])\n",
            "\n",
            "MEL Train Loader:\n",
            "Data shape: torch.Size([32, 1, 32, 41])\n",
            "Label shape: torch.Size([32])\n",
            "\n",
            "MEL Validation Loader:\n",
            "Data shape: torch.Size([32, 1, 32, 41])\n",
            "Label shape: torch.Size([32])\n",
            "\n",
            "Fusion Train Loader:\n",
            "MFCC Data shape: torch.Size([32, 1, 13, 16])\n",
            "WST Data shape: torch.Size([32, 1, 386, 31])\n",
            "MEL Data shape: torch.Size([32, 1, 32, 41])\n",
            "Label shape: torch.Size([32])\n",
            "\n",
            "Fusion Validation Loader:\n",
            "MFCC Data shape: torch.Size([32, 1, 13, 16])\n",
            "WST Data shape: torch.Size([32, 1, 386, 31])\n",
            "MEL Data shape: torch.Size([32, 1, 32, 41])\n",
            "Label shape: torch.Size([32])\n"
          ]
        }
      ],
      "source": [
        "# Test the loaders\n",
        "for mfcc_data, mfcc_label in train_mfcc_loader:\n",
        "    print(\"MFCC Train Loader:\")\n",
        "    print(\"Data shape:\", mfcc_data.shape)\n",
        "    print(\"Label shape:\", mfcc_label.shape)\n",
        "    break\n",
        "\n",
        "for mfcc_data, mfcc_label in val_mfcc_loader:\n",
        "    print(\"\\nMFCC Validation Loader:\")\n",
        "    print(\"Data shape:\", mfcc_data.shape)\n",
        "    print(\"Label shape:\", mfcc_label.shape)\n",
        "    break\n",
        "\n",
        "for wst_data, wst_label in train_wst_loader:\n",
        "    print(\"\\nWST Train Loader:\")\n",
        "    print(\"Data shape:\", wst_data.shape)\n",
        "    print(\"Label shape:\", wst_label.shape)\n",
        "    break\n",
        "\n",
        "for wst_data, wst_label in val_wst_loader:\n",
        "    print(\"\\nWST Validation Loader:\")\n",
        "    print(\"Data shape:\", wst_data.shape)\n",
        "    print(\"Label shape:\", wst_label.shape)\n",
        "    break\n",
        "\n",
        "for mel_data, mel_label in train_mel_loader:\n",
        "    print(\"\\nMEL Train Loader:\")\n",
        "    print(\"Data shape:\", mel_data.shape)\n",
        "    print(\"Label shape:\", mel_label.shape)\n",
        "    break\n",
        "\n",
        "for mel_data, mel_label in val_mel_loader:\n",
        "    print(\"\\nMEL Validation Loader:\")\n",
        "    print(\"Data shape:\", mel_data.shape)\n",
        "    print(\"Label shape:\", mel_label.shape)\n",
        "    break\n",
        "\n",
        "for mfcc_data, wst_data, mel_data, label in train_loader:\n",
        "    print(\"\\nFusion Train Loader:\")\n",
        "    print(\"MFCC Data shape:\", mfcc_data.shape)\n",
        "    print(\"WST Data shape:\", wst_data.shape)\n",
        "    print(\"MEL Data shape:\", mel_data.shape)\n",
        "    print(\"Label shape:\", label.shape)\n",
        "    break\n",
        "\n",
        "for mfcc_data, wst_data, mel_data, label in val_loader:\n",
        "    print(\"\\nFusion Validation Loader:\")\n",
        "    print(\"MFCC Data shape:\", mfcc_data.shape)\n",
        "    print(\"WST Data shape:\", wst_data.shape)\n",
        "    print(\"MEL Data shape:\", mel_data.shape)\n",
        "    print(\"Label shape:\", label.shape)\n",
        "    break"
      ]
    },
    {
      "cell_type": "code",
      "execution_count": null,
      "metadata": {
        "id": "5967HogXuf0e"
      },
      "outputs": [],
      "source": [
        "class SelfAttentionBlock(nn.Module):\n",
        "    def __init__(self, dim, heads=4):\n",
        "        super().__init__()\n",
        "        self.attn = nn.MultiheadAttention(embed_dim=dim, num_heads=heads, batch_first=True)\n",
        "        self.norm = nn.LayerNorm(dim)\n",
        "\n",
        "    def forward(self, x):\n",
        "        attn_output, _ = self.attn(x, x, x)\n",
        "        return self.norm(attn_output + x)"
      ]
    },
    {
      "cell_type": "code",
      "execution_count": null,
      "metadata": {
        "id": "6Q-B9GTFufwO"
      },
      "outputs": [],
      "source": [
        "class CrossAttentionBlock(nn.Module):\n",
        "    def __init__(self, query_dim, context_dim, heads=4):\n",
        "        super().__init__()\n",
        "        self.attn = nn.MultiheadAttention(embed_dim=query_dim, num_heads=heads, batch_first=True)\n",
        "        self.k_proj = nn.Linear(context_dim, query_dim)\n",
        "        self.v_proj = nn.Linear(context_dim, query_dim)\n",
        "        self.norm = nn.LayerNorm(query_dim)\n",
        "\n",
        "    def forward(self, query, context):\n",
        "        key = self.k_proj(context)\n",
        "        value = self.v_proj(context)\n",
        "        attn_output, _ = self.attn(query, key, value)\n",
        "        return self.norm(attn_output + query)"
      ]
    },
    {
      "cell_type": "code",
      "execution_count": null,
      "metadata": {
        "id": "Vl2CVx1_ufr6"
      },
      "outputs": [],
      "source": [
        "class ModalFusionAttention(nn.Module):\n",
        "    def __init__(self, dim):\n",
        "        super().__init__()\n",
        "        self.weight_net = nn.Sequential(\n",
        "            nn.Linear(dim, dim),\n",
        "            nn.Tanh(),\n",
        "            nn.Linear(dim, 1)\n",
        "        )\n",
        "\n",
        "    def forward(self, embeddings):\n",
        "        weights = self.weight_net(embeddings).softmax(dim=1)\n",
        "        return (weights * embeddings).sum(dim=1)"
      ]
    },
    {
      "cell_type": "code",
      "execution_count": null,
      "metadata": {
        "id": "uFzWwOq7nCw2"
      },
      "outputs": [],
      "source": [
        "class ResidualBlock(nn.Module):\n",
        "    def __init__(self, in_channels):\n",
        "        super().__init__()\n",
        "        self.conv1 = nn.Conv2d(in_channels, in_channels, kernel_size=3, padding=1)\n",
        "        self.bn1 = nn.GroupNorm(4, in_channels)\n",
        "        self.relu = nn.ReLU()\n",
        "        self.conv2 = nn.Conv2d(in_channels, in_channels, kernel_size=3, padding=1)\n",
        "        self.bn2 = nn.GroupNorm(4, in_channels)\n",
        "\n",
        "    def forward(self, x):\n",
        "        residual = x\n",
        "        out = self.conv1(x)\n",
        "        out = self.bn1(out)\n",
        "        out = self.relu(out)\n",
        "        out = self.conv2(out)\n",
        "        out = self.bn2(out)\n",
        "        out += residual\n",
        "        out = self.relu(out)\n",
        "        return out"
      ]
    },
    {
      "cell_type": "code",
      "execution_count": null,
      "metadata": {
        "id": "sX-DHe1JLqTO"
      },
      "outputs": [],
      "source": [
        "class CetaceanNet(nn.Module):\n",
        "    def __init__(self, num_classes):\n",
        "        super().__init__()\n",
        "\n",
        "        # MEL: [B, 1, 32, 41] => conv2d -> [B, 128, 32, 41]\n",
        "        self.mel_conv = nn.Sequential(\n",
        "            nn.Conv2d(1, 64, kernel_size=3, padding=1),\n",
        "            nn.GroupNorm(4, 64), nn.ReLU(),\n",
        "            nn.Conv2d(64, 128, kernel_size=3, padding=1),\n",
        "            nn.GroupNorm(4, 128), nn.ReLU(),\n",
        "            ResidualBlock(128),\n",
        "        )\n",
        "        self.mel_attn = SelfAttentionBlock(128)\n",
        "\n",
        "        # WST: [B, 1, 386, 31] => conv2d -> [B, 128, 16, 8]\n",
        "        self.wst_conv = nn.Sequential(\n",
        "            nn.Conv2d(1, 64, kernel_size=3, padding=1),\n",
        "            nn.GroupNorm(4, 64), nn.ReLU(),\n",
        "            nn.Conv2d(64, 128, kernel_size=3, padding=1),\n",
        "            nn.GroupNorm(4, 128), nn.ReLU(),\n",
        "            ResidualBlock(128),\n",
        "            nn.AdaptiveAvgPool2d((16, 8))\n",
        "        )\n",
        "        self.wst_attn = SelfAttentionBlock(128)\n",
        "\n",
        "        # MFCC: [B, 1, 13, 16] => conv2d -> [B, 128, 4, 4]\n",
        "        self.mfcc_conv = nn.Sequential(\n",
        "            nn.Conv2d(1, 64, kernel_size=3, padding=1),\n",
        "            nn.GroupNorm(4, 64), nn.ReLU(),\n",
        "            nn.Conv2d(64, 128, kernel_size=3, padding=1),\n",
        "            nn.GroupNorm(4, 128), nn.ReLU(),\n",
        "            ResidualBlock(128),\n",
        "            nn.AdaptiveAvgPool2d((4, 4))\n",
        "        )\n",
        "        self.mfcc_attn = SelfAttentionBlock(128)\n",
        "\n",
        "        # Cross-attention\n",
        "        self.cross_mfcc = CrossAttentionBlock(query_dim=128, context_dim=128)\n",
        "        self.cross_wst = CrossAttentionBlock(query_dim=128, context_dim=128)\n",
        "\n",
        "        # Fusion\n",
        "        self.fusion_attention = ModalFusionAttention(128)\n",
        "\n",
        "        # Classifier\n",
        "        self.classifier = nn.Sequential(\n",
        "            nn.Linear(128, 64),\n",
        "            nn.ReLU(),\n",
        "            nn.Dropout(0.3),\n",
        "            nn.Linear(64, num_classes)\n",
        "        )\n",
        "\n",
        "    def forward(self, mfcc, wst, mel):\n",
        "        # MEL\n",
        "        x_mel = self.mel_conv(mel)  # [B, 128, 32, 41]\n",
        "        x_mel = x_mel.mean(dim=2).transpose(1, 2)  # [B, 41, 128]\n",
        "        x_mel = self.mel_attn(x_mel)\n",
        "\n",
        "        # WST\n",
        "        x_wst = self.wst_conv(wst)  # [B, 128, 16, 8]\n",
        "        x_wst = x_wst.flatten(2).transpose(1, 2)  # [B, 128, 128]\n",
        "        x_wst = self.wst_attn(x_wst)\n",
        "\n",
        "        # MFCC\n",
        "        x_mfcc = self.mfcc_conv(mfcc)  # [B, 128, 4, 4]\n",
        "        x_mfcc = x_mfcc.flatten(2).transpose(1, 2)  # [B, 16, 128]\n",
        "        x_mfcc = self.mfcc_attn(x_mfcc)\n",
        "\n",
        "        # Cross attention\n",
        "        x_mel_mfcc = self.cross_mfcc(x_mel, x_mfcc)\n",
        "        x_mel_wst = self.cross_wst(x_mel, x_wst)\n",
        "\n",
        "        # Global average pooling\n",
        "        pooled_mfcc = x_mel_mfcc.mean(dim=1)\n",
        "        pooled_wst = x_mel_wst.mean(dim=1)\n",
        "\n",
        "\n",
        "        # Fusion\n",
        "        fused = torch.stack([pooled_mfcc, pooled_wst], dim=1)  # [B, 2, 128]\n",
        "        out = self.fusion_attention(fused)\n",
        "        result = self.classifier(out)\n",
        "\n",
        "        return result"
      ]
    },
    {
      "cell_type": "code",
      "source": [
        "class DepthwiseSeparableConv2d(nn.Module):\n",
        "    def __init__(self, in_channels, out_channels, kernel_size, padding=0, stride=1):\n",
        "        super().__init__()\n",
        "        self.depthwise = nn.Conv2d(\n",
        "            in_channels, in_channels, kernel_size=kernel_size, stride=stride,\n",
        "            padding=padding, groups=in_channels, bias=False\n",
        "        )\n",
        "        self.pointwise = nn.Conv2d(\n",
        "            in_channels, out_channels, kernel_size=1, bias=False\n",
        "        )\n",
        "    def forward(self, x):\n",
        "        x = self.depthwise(x)\n",
        "        x = self.pointwise(x)\n",
        "        return x"
      ],
      "metadata": {
        "id": "3_Q9eWi4Hr-T"
      },
      "execution_count": null,
      "outputs": []
    },
    {
      "cell_type": "code",
      "source": [
        "class LightResidualBlock(nn.Module):\n",
        "    def __init__(self, in_channels):\n",
        "        super().__init__()\n",
        "        self.dsconv1 = DepthwiseSeparableConv2d(in_channels, in_channels, kernel_size=3, padding=1)\n",
        "        self.bn1 = nn.GroupNorm(4, in_channels)\n",
        "        self.relu = nn.ReLU()\n",
        "        self.dsconv2 = DepthwiseSeparableConv2d(in_channels, in_channels, kernel_size=3, padding=1)\n",
        "        self.bn2 = nn.GroupNorm(4, in_channels)\n",
        "\n",
        "    def forward(self, x):\n",
        "        residual = x\n",
        "        out = self.dsconv1(x)\n",
        "        out = self.bn1(out)\n",
        "        out = self.relu(out)\n",
        "        out = self.dsconv2(out)\n",
        "        out = self.bn2(out)\n",
        "        out += residual\n",
        "        out = self.relu(out)\n",
        "        return out"
      ],
      "metadata": {
        "id": "rPdKAo5HHwq7"
      },
      "execution_count": null,
      "outputs": []
    },
    {
      "cell_type": "code",
      "source": [
        "class CetaceanNetLight(nn.Module):\n",
        "    def __init__(self, num_classes):\n",
        "        super().__init__()\n",
        "\n",
        "        # MEL: [B, 1, 32, 41] => conv2d -> [B, 128, 32, 41]\n",
        "        self.mel_conv = nn.Sequential(\n",
        "            DepthwiseSeparableConv2d(1, 64, kernel_size=3, padding=1),\n",
        "            nn.GroupNorm(4, 64), nn.ReLU(),\n",
        "            DepthwiseSeparableConv2d(64, 128, kernel_size=3, padding=1),\n",
        "            nn.GroupNorm(4, 128), nn.ReLU(),\n",
        "            LightResidualBlock(128),\n",
        "        )\n",
        "        self.mel_attn = SelfAttentionBlock(128)\n",
        "\n",
        "        # WST: [B, 1, 386, 31] => conv2d -> [B, 128, 16, 8]\n",
        "        self.wst_conv = nn.Sequential(\n",
        "            DepthwiseSeparableConv2d(1, 64, kernel_size=3, padding=1),\n",
        "            nn.GroupNorm(4, 64), nn.ReLU(),\n",
        "            DepthwiseSeparableConv2d(64, 128, kernel_size=3, padding=1),\n",
        "            nn.GroupNorm(4, 128), nn.ReLU(),\n",
        "            LightResidualBlock(128),\n",
        "            nn.AdaptiveAvgPool2d((16, 8))\n",
        "        )\n",
        "        self.wst_attn = SelfAttentionBlock(128)\n",
        "\n",
        "        # MFCC: [B, 1, 13, 16] => conv2d -> [B, 128, 4, 4]\n",
        "        self.mfcc_conv = nn.Sequential(\n",
        "            DepthwiseSeparableConv2d(1, 64, kernel_size=3, padding=1),\n",
        "            nn.GroupNorm(4, 64), nn.ReLU(),\n",
        "            DepthwiseSeparableConv2d(64, 128, kernel_size=3, padding=1),\n",
        "            nn.GroupNorm(4, 128), nn.ReLU(),\n",
        "            LightResidualBlock(128),\n",
        "            nn.AdaptiveAvgPool2d((4, 4))\n",
        "        )\n",
        "        self.mfcc_attn = SelfAttentionBlock(128)\n",
        "\n",
        "        # Cross-attention\n",
        "        self.cross_mfcc = CrossAttentionBlock(query_dim=128, context_dim=128)\n",
        "        self.cross_wst = CrossAttentionBlock(query_dim=128, context_dim=128)\n",
        "\n",
        "        # Fusion\n",
        "        self.fusion_attention = ModalFusionAttention(128)\n",
        "\n",
        "        # Classifier\n",
        "        self.classifier = nn.Sequential(\n",
        "            nn.Linear(128, 64),\n",
        "            nn.ReLU(),\n",
        "            nn.Dropout(0.3),\n",
        "            nn.Linear(64, num_classes)\n",
        "        )\n",
        "\n",
        "    def forward(self, mfcc, wst, mel):\n",
        "        # MEL\n",
        "        x_mel = self.mel_conv(mel)  # [B, 128, 32, 41]\n",
        "        x_mel = x_mel.mean(dim=2).transpose(1, 2)  # [B, 41, 128]\n",
        "        x_mel = self.mel_attn(x_mel)\n",
        "\n",
        "        # WST\n",
        "        x_wst = self.wst_conv(wst)  # [B, 128, 16, 8]\n",
        "        x_wst = x_wst.flatten(2).transpose(1, 2)  # [B, 128, 128]\n",
        "        x_wst = self.wst_attn(x_wst)\n",
        "\n",
        "        # MFCC\n",
        "        x_mfcc = self.mfcc_conv(mfcc)  # [B, 128, 4, 4]\n",
        "        x_mfcc = x_mfcc.flatten(2).transpose(1, 2)  # [B, 16, 128]\n",
        "        x_mfcc = self.mfcc_attn(x_mfcc)\n",
        "\n",
        "        # Cross attention\n",
        "        x_mel_mfcc = self.cross_mfcc(x_mel, x_mfcc)\n",
        "        x_mel_wst = self.cross_wst(x_mel, x_wst)\n",
        "\n",
        "        # Global average pooling\n",
        "        pooled_mfcc = x_mel_mfcc.mean(dim=1)\n",
        "        pooled_wst = x_mel_wst.mean(dim=1)\n",
        "\n",
        "        # Fusion\n",
        "        fused = torch.stack([pooled_mfcc, pooled_wst], dim=1)  # [B, 2, 128]\n",
        "        out = self.fusion_attention(fused)\n",
        "        result = self.classifier(out)\n",
        "\n",
        "        return result"
      ],
      "metadata": {
        "id": "DOLWKUbRHwnb"
      },
      "execution_count": null,
      "outputs": []
    },
    {
      "cell_type": "code",
      "source": [
        "class MobileNetV2(nn.Module):\n",
        "    def __init__(self, num_classes):\n",
        "        super().__init__()\n",
        "        self.target_size = (224, 224)\n",
        "\n",
        "        self.backbone = models.mobilenet_v2(pretrained=False)\n",
        "        self.backbone.features[0][0] = nn.Conv2d(1, 32, kernel_size=3, stride=2, padding=1, bias=False)\n",
        "        self.backbone.classifier[1] = nn.Linear(self.backbone.last_channel, num_classes)\n",
        "\n",
        "    def forward(self, feature):\n",
        "        feature = F.interpolate(feature, size=self.target_size, mode='bilinear', align_corners=False)\n",
        "        return self.backbone(feature)"
      ],
      "metadata": {
        "id": "ThcFHfw9IVIq"
      },
      "execution_count": null,
      "outputs": []
    },
    {
      "cell_type": "code",
      "source": [
        "class MobileNetV2Combined(nn.Module):\n",
        "    def __init__(self, num_classes):\n",
        "        super().__init__()\n",
        "        self.target_size = (224, 224)\n",
        "\n",
        "        self.backbone = models.mobilenet_v2(pretrained=True)\n",
        "        self.backbone.features[0][0] = nn.Conv2d(3, 32, kernel_size=3, stride=2, padding=1, bias=False)\n",
        "        self.backbone.classifier[1] = nn.Linear(self.backbone.last_channel, num_classes)\n",
        "\n",
        "    def forward(self, mfcc, wst, mel):\n",
        "        # Interpolate all inputs to the same size\n",
        "        mfcc = F.interpolate(mfcc, size=self.target_size, mode='bilinear', align_corners=False)  # [B, 1, H, W]\n",
        "        wst  = F.interpolate(wst,  size=self.target_size, mode='bilinear', align_corners=False)\n",
        "        mel  = F.interpolate(mel,  size=self.target_size, mode='bilinear', align_corners=False)\n",
        "\n",
        "        # Concatenate along channel dimension -> [B, 3, H, W]\n",
        "        combined = torch.cat([mfcc, wst, mel], dim=1)\n",
        "        return self.backbone(combined)"
      ],
      "metadata": {
        "id": "9W2georOIVFq"
      },
      "execution_count": null,
      "outputs": []
    },
    {
      "cell_type": "code",
      "source": [
        "def train_model(\n",
        "    model,\n",
        "    train_loader,\n",
        "    val_loader,\n",
        "    y,\n",
        "    label2id,\n",
        "    num_classes,\n",
        "    project_name=\"cetacean-net\",\n",
        "    architecture=\"Default\",\n",
        "    epochs=100,\n",
        "    batch_size=32,\n",
        "    learning_rate=1e-4,\n",
        "    optimizer_name=\"AdamW\",\n",
        "    weight_decay=1e-2\n",
        "):\n",
        "    # WANDB INIT\n",
        "    wandb.init(\n",
        "        project=project_name,\n",
        "        config={\n",
        "            \"epochs\": epochs,\n",
        "            \"batch_size\": batch_size,\n",
        "            \"learning_rate\": learning_rate,\n",
        "            \"optimizer\": optimizer_name,\n",
        "            \"architecture\": architecture\n",
        "        }\n",
        "    )\n",
        "\n",
        "    # Device\n",
        "    device = torch.device(\"cuda\" if torch.cuda.is_available() else \"cpu\")\n",
        "    model = model.to(device)\n",
        "\n",
        "    print(f\"Total parameters: {sum(p.numel() for p in model.parameters())}\")\n",
        "    print(f\"Trainable parameters: {sum(p.numel() for p in model.parameters() if p.requires_grad)}\")\n",
        "\n",
        "    # Class weights for imbalanced datasets\n",
        "    class_np = np.array(range(num_classes))\n",
        "    labels = torch.tensor([label2id[label] for label in y])\n",
        "    class_weights = compute_class_weight('balanced', classes=class_np, y=labels.cpu().numpy())\n",
        "    class_weights_tensor = torch.tensor(class_weights, dtype=torch.float).to(device)\n",
        "\n",
        "    # Loss and optimizer\n",
        "    criterion = nn.CrossEntropyLoss(weight=class_weights_tensor)\n",
        "    if optimizer_name.lower() == \"adamw\":\n",
        "        optimizer = optim.AdamW(\n",
        "            model.parameters(),\n",
        "            lr=learning_rate,\n",
        "            weight_decay=weight_decay,\n",
        "        )\n",
        "    else:\n",
        "        optimizer = getattr(optim, optimizer_name)(model.parameters(), lr=learning_rate)\n",
        "\n",
        "    # Training loop\n",
        "    for epoch in range(epochs):\n",
        "        model.train()\n",
        "        train_loss, correct_train, total_train = 0.0, 0, 0\n",
        "\n",
        "        for batch in train_loader:\n",
        "            # Unpack batch (supports multi-input or single-input models)\n",
        "            if isinstance(batch, (list, tuple)) and len(batch) == 4:\n",
        "                x1, x2, x3, labels = batch\n",
        "                x1, x2, x3, labels = x1.to(device), x2.to(device), x3.to(device), labels.to(device)\n",
        "                outputs = model(x1.float(), x2.float(), x3.float())\n",
        "            else:\n",
        "                inputs, labels = batch\n",
        "                inputs, labels = inputs.to(device), labels.to(device)\n",
        "                outputs = model(inputs.float())\n",
        "\n",
        "            optimizer.zero_grad()\n",
        "            loss = criterion(outputs, labels)\n",
        "            loss.backward()\n",
        "            optimizer.step()\n",
        "\n",
        "            train_loss += loss.item() * labels.size(0)\n",
        "            _, predicted = torch.max(outputs, 1)\n",
        "            correct_train += (predicted == labels).sum().item()\n",
        "            total_train += labels.size(0)\n",
        "\n",
        "        avg_train_loss = train_loss / total_train\n",
        "        train_accuracy = correct_train / total_train\n",
        "\n",
        "        # Validation\n",
        "        model.eval()\n",
        "        val_loss, correct_val, total_val = 0.0, 0, 0\n",
        "        with torch.no_grad():\n",
        "            for batch in val_loader:\n",
        "                if isinstance(batch, (list, tuple)) and len(batch) == 4:\n",
        "                    x1, x2, x3, labels = batch\n",
        "                    x1, x2, x3, labels = x1.to(device), x2.to(device), x3.to(device), labels.to(device)\n",
        "                    outputs = model(x1.float(), x2.float(), x3.float())\n",
        "                else:\n",
        "                    inputs, labels = batch\n",
        "                    inputs, labels = inputs.to(device), labels.to(device)\n",
        "                    outputs = model(inputs.float())\n",
        "\n",
        "                loss = criterion(outputs, labels)\n",
        "                val_loss += loss.item() * labels.size(0)\n",
        "                _, predicted = torch.max(outputs, 1)\n",
        "                correct_val += (predicted == labels).sum().item()\n",
        "                total_val += labels.size(0)\n",
        "\n",
        "        avg_val_loss = val_loss / total_val\n",
        "        val_accuracy = correct_val / total_val\n",
        "\n",
        "        # Log metrics\n",
        "        wandb.log({\n",
        "            \"epoch\": epoch + 1,\n",
        "            \"train_loss\": avg_train_loss,\n",
        "            \"train_accuracy\": train_accuracy,\n",
        "            \"val_loss\": avg_val_loss,\n",
        "            \"val_accuracy\": val_accuracy\n",
        "        })\n",
        "\n",
        "        print(\n",
        "            f\"Epoch {epoch+1} | Train Loss: {avg_train_loss:.4f} | Train Acc: {train_accuracy:.4f} | \"\n",
        "            f\"Val Loss: {avg_val_loss:.4f} | Val Acc: {val_accuracy:.4f}\"\n",
        "        )"
      ],
      "metadata": {
        "id": "7zdGf61aHwdv"
      },
      "execution_count": null,
      "outputs": []
    },
    {
      "cell_type": "code",
      "execution_count": null,
      "metadata": {
        "id": "x0q7HQuckkq5",
        "colab": {
          "base_uri": "https://localhost:8080/",
          "height": 1000
        },
        "outputId": "578f9960-01db-4d1b-deb0-05bba6b4895e"
      },
      "outputs": [
        {
          "output_type": "display_data",
          "data": {
            "text/plain": [
              "<IPython.core.display.HTML object>"
            ],
            "text/html": [
              "Finishing previous runs because reinit is set to 'default'."
            ]
          },
          "metadata": {}
        },
        {
          "output_type": "display_data",
          "data": {
            "text/plain": [
              "<IPython.core.display.HTML object>"
            ],
            "text/html": []
          },
          "metadata": {}
        },
        {
          "output_type": "display_data",
          "data": {
            "text/plain": [
              "<IPython.core.display.HTML object>"
            ],
            "text/html": [
              "<br>    <style><br>        .wandb-row {<br>            display: flex;<br>            flex-direction: row;<br>            flex-wrap: wrap;<br>            justify-content: flex-start;<br>            width: 100%;<br>        }<br>        .wandb-col {<br>            display: flex;<br>            flex-direction: column;<br>            flex-basis: 100%;<br>            flex: 1;<br>            padding: 10px;<br>        }<br>    </style><br><div class=\"wandb-row\"><div class=\"wandb-col\"><h3>Run history:</h3><br/><table class=\"wandb\"><tr><td>epoch</td><td>▁▁▁▁▂▂▂▂▂▂▃▃▃▃▃▄▄▄▄▄▅▅▅▅▅▅▅▆▆▆▆▆▇▇▇▇████</td></tr><tr><td>train_accuracy</td><td>▁▂▂▃▃▅▅▅▅▅▆▆▆▆▆▇▇▇▇▇▇▇▇▇▇██▇███████▇████</td></tr><tr><td>train_loss</td><td>█▇▇▇▆▆▅▅▄▄▄▃▃▃▃▃▂▂▂▂▂▂▂▂▂▂▁▁▁▁▁▁▁▁▁▂▁▁▁▁</td></tr><tr><td>val_accuracy</td><td>▁▁▂▃▄▅▆▆▆▆▆▇▇▇▇▇█▇▇█▇█▇███████▇█████████</td></tr><tr><td>val_loss</td><td>██▆▆▅▄▃▃▃▂▂▂▂▂▂▁▁▂▁▁▁▁▁▁▁▁▁▁▁▁▁▁▁▁▁▁▁▁▁▁</td></tr></table><br/></div><div class=\"wandb-col\"><h3>Run summary:</h3><br/><table class=\"wandb\"><tr><td>epoch</td><td>60</td></tr><tr><td>train_accuracy</td><td>0.94833</td></tr><tr><td>train_loss</td><td>0.13148</td></tr><tr><td>val_accuracy</td><td>0.74751</td></tr><tr><td>val_loss</td><td>0.82468</td></tr></table><br/></div></div>"
            ]
          },
          "metadata": {}
        },
        {
          "output_type": "display_data",
          "data": {
            "text/plain": [
              "<IPython.core.display.HTML object>"
            ],
            "text/html": [
              " View run <strong style=\"color:#cdcd00\">magic-sun-9</strong> at: <a href='https://wandb.ai/ramanujachanduri/cetacean-net/runs/8ovhakqi' target=\"_blank\">https://wandb.ai/ramanujachanduri/cetacean-net/runs/8ovhakqi</a><br> View project at: <a href='https://wandb.ai/ramanujachanduri/cetacean-net' target=\"_blank\">https://wandb.ai/ramanujachanduri/cetacean-net</a><br>Synced 5 W&B file(s), 0 media file(s), 0 artifact file(s) and 0 other file(s)"
            ]
          },
          "metadata": {}
        },
        {
          "output_type": "display_data",
          "data": {
            "text/plain": [
              "<IPython.core.display.HTML object>"
            ],
            "text/html": [
              "Find logs at: <code>./wandb/run-20250727_101925-8ovhakqi/logs</code>"
            ]
          },
          "metadata": {}
        },
        {
          "output_type": "display_data",
          "data": {
            "text/plain": [
              "<IPython.core.display.HTML object>"
            ],
            "text/html": [
              "Tracking run with wandb version 0.21.0"
            ]
          },
          "metadata": {}
        },
        {
          "output_type": "display_data",
          "data": {
            "text/plain": [
              "<IPython.core.display.HTML object>"
            ],
            "text/html": [
              "Run data is saved locally in <code>/content/wandb/run-20250727_102800-kxn7rluf</code>"
            ]
          },
          "metadata": {}
        },
        {
          "output_type": "display_data",
          "data": {
            "text/plain": [
              "<IPython.core.display.HTML object>"
            ],
            "text/html": [
              "Syncing run <strong><a href='https://wandb.ai/ramanujachanduri/cetacean-net/runs/kxn7rluf' target=\"_blank\">noble-plasma-10</a></strong> to <a href='https://wandb.ai/ramanujachanduri/cetacean-net' target=\"_blank\">Weights & Biases</a> (<a href='https://wandb.me/developer-guide' target=\"_blank\">docs</a>)<br>"
            ]
          },
          "metadata": {}
        },
        {
          "output_type": "display_data",
          "data": {
            "text/plain": [
              "<IPython.core.display.HTML object>"
            ],
            "text/html": [
              " View project at <a href='https://wandb.ai/ramanujachanduri/cetacean-net' target=\"_blank\">https://wandb.ai/ramanujachanduri/cetacean-net</a>"
            ]
          },
          "metadata": {}
        },
        {
          "output_type": "display_data",
          "data": {
            "text/plain": [
              "<IPython.core.display.HTML object>"
            ],
            "text/html": [
              " View run at <a href='https://wandb.ai/ramanujachanduri/cetacean-net/runs/kxn7rluf' target=\"_blank\">https://wandb.ai/ramanujachanduri/cetacean-net/runs/kxn7rluf</a>"
            ]
          },
          "metadata": {}
        },
        {
          "output_type": "stream",
          "name": "stdout",
          "text": [
            "Total parameters: 1535770\n",
            "Trainable parameters: 1535770\n",
            "Epoch 1 | Train Loss: 3.1939 | Train Acc: 0.0667 | Val Loss: 3.1460 | Val Acc: 0.0797\n",
            "Epoch 2 | Train Loss: 3.0228 | Train Acc: 0.1067 | Val Loss: 3.0069 | Val Acc: 0.0897\n",
            "Epoch 3 | Train Loss: 2.8926 | Train Acc: 0.1208 | Val Loss: 2.8881 | Val Acc: 0.1362\n",
            "Epoch 4 | Train Loss: 2.7828 | Train Acc: 0.1300 | Val Loss: 2.7253 | Val Acc: 0.1761\n",
            "Epoch 5 | Train Loss: 2.6500 | Train Acc: 0.1950 | Val Loss: 2.5973 | Val Acc: 0.2625\n",
            "Epoch 6 | Train Loss: 2.5036 | Train Acc: 0.2567 | Val Loss: 2.4801 | Val Acc: 0.2924\n",
            "Epoch 7 | Train Loss: 2.3526 | Train Acc: 0.3033 | Val Loss: 2.3329 | Val Acc: 0.3389\n",
            "Epoch 8 | Train Loss: 2.2191 | Train Acc: 0.3617 | Val Loss: 2.1387 | Val Acc: 0.4718\n",
            "Epoch 9 | Train Loss: 2.0732 | Train Acc: 0.4275 | Val Loss: 2.0379 | Val Acc: 0.5216\n",
            "Epoch 10 | Train Loss: 1.9275 | Train Acc: 0.4750 | Val Loss: 1.8456 | Val Acc: 0.5449\n",
            "Epoch 11 | Train Loss: 1.7736 | Train Acc: 0.5267 | Val Loss: 1.7666 | Val Acc: 0.5880\n",
            "Epoch 12 | Train Loss: 1.6813 | Train Acc: 0.5450 | Val Loss: 1.6805 | Val Acc: 0.5714\n",
            "Epoch 13 | Train Loss: 1.5998 | Train Acc: 0.5850 | Val Loss: 1.4919 | Val Acc: 0.6910\n",
            "Epoch 14 | Train Loss: 1.4339 | Train Acc: 0.6300 | Val Loss: 1.5346 | Val Acc: 0.6246\n",
            "Epoch 15 | Train Loss: 1.3815 | Train Acc: 0.6392 | Val Loss: 1.4507 | Val Acc: 0.6113\n",
            "Epoch 16 | Train Loss: 1.3303 | Train Acc: 0.6408 | Val Loss: 1.3231 | Val Acc: 0.6645\n",
            "Epoch 17 | Train Loss: 1.2135 | Train Acc: 0.6633 | Val Loss: 1.3138 | Val Acc: 0.6711\n",
            "Epoch 18 | Train Loss: 1.1596 | Train Acc: 0.7100 | Val Loss: 1.1874 | Val Acc: 0.7342\n",
            "Epoch 19 | Train Loss: 1.0581 | Train Acc: 0.7333 | Val Loss: 1.1843 | Val Acc: 0.7110\n",
            "Epoch 20 | Train Loss: 1.0419 | Train Acc: 0.7217 | Val Loss: 1.1027 | Val Acc: 0.7143\n",
            "Epoch 21 | Train Loss: 0.9222 | Train Acc: 0.7617 | Val Loss: 1.0479 | Val Acc: 0.7442\n",
            "Epoch 22 | Train Loss: 0.8835 | Train Acc: 0.7758 | Val Loss: 1.0865 | Val Acc: 0.6977\n",
            "Epoch 23 | Train Loss: 0.8468 | Train Acc: 0.7758 | Val Loss: 0.9966 | Val Acc: 0.7641\n",
            "Epoch 24 | Train Loss: 0.8011 | Train Acc: 0.7833 | Val Loss: 1.0029 | Val Acc: 0.6977\n",
            "Epoch 25 | Train Loss: 0.7800 | Train Acc: 0.7858 | Val Loss: 0.9716 | Val Acc: 0.7641\n",
            "Epoch 26 | Train Loss: 0.7809 | Train Acc: 0.7808 | Val Loss: 0.9260 | Val Acc: 0.6944\n",
            "Epoch 27 | Train Loss: 0.6665 | Train Acc: 0.8242 | Val Loss: 0.9130 | Val Acc: 0.7542\n",
            "Epoch 28 | Train Loss: 0.6784 | Train Acc: 0.8075 | Val Loss: 0.8895 | Val Acc: 0.7409\n",
            "Epoch 29 | Train Loss: 0.6499 | Train Acc: 0.8325 | Val Loss: 0.8940 | Val Acc: 0.7542\n",
            "Epoch 30 | Train Loss: 0.5964 | Train Acc: 0.8317 | Val Loss: 0.8751 | Val Acc: 0.7243\n",
            "Epoch 31 | Train Loss: 0.5985 | Train Acc: 0.8383 | Val Loss: 0.8516 | Val Acc: 0.7575\n",
            "Epoch 32 | Train Loss: 0.5544 | Train Acc: 0.8433 | Val Loss: 0.9647 | Val Acc: 0.6977\n",
            "Epoch 33 | Train Loss: 0.5353 | Train Acc: 0.8508 | Val Loss: 0.8580 | Val Acc: 0.7442\n",
            "Epoch 34 | Train Loss: 0.5306 | Train Acc: 0.8467 | Val Loss: 0.8619 | Val Acc: 0.7542\n",
            "Epoch 35 | Train Loss: 0.5576 | Train Acc: 0.8283 | Val Loss: 0.8674 | Val Acc: 0.7442\n",
            "Epoch 36 | Train Loss: 0.4652 | Train Acc: 0.8783 | Val Loss: 0.8966 | Val Acc: 0.7243\n",
            "Epoch 37 | Train Loss: 0.4165 | Train Acc: 0.8850 | Val Loss: 0.8548 | Val Acc: 0.7209\n",
            "Epoch 38 | Train Loss: 0.4099 | Train Acc: 0.8733 | Val Loss: 0.8273 | Val Acc: 0.7309\n",
            "Epoch 39 | Train Loss: 0.4217 | Train Acc: 0.8742 | Val Loss: 0.8127 | Val Acc: 0.7674\n",
            "Epoch 40 | Train Loss: 0.4031 | Train Acc: 0.8792 | Val Loss: 0.8164 | Val Acc: 0.7575\n",
            "Epoch 41 | Train Loss: 0.3813 | Train Acc: 0.8950 | Val Loss: 0.8104 | Val Acc: 0.7608\n",
            "Epoch 42 | Train Loss: 0.3589 | Train Acc: 0.8992 | Val Loss: 0.8253 | Val Acc: 0.7907\n",
            "Epoch 43 | Train Loss: 0.3880 | Train Acc: 0.8808 | Val Loss: 0.8727 | Val Acc: 0.7475\n",
            "Epoch 44 | Train Loss: 0.3579 | Train Acc: 0.8992 | Val Loss: 0.8411 | Val Acc: 0.7542\n",
            "Epoch 45 | Train Loss: 0.3056 | Train Acc: 0.9117 | Val Loss: 0.8163 | Val Acc: 0.7043\n",
            "Epoch 46 | Train Loss: 0.2933 | Train Acc: 0.9100 | Val Loss: 0.8572 | Val Acc: 0.7276\n",
            "Epoch 47 | Train Loss: 0.2901 | Train Acc: 0.9092 | Val Loss: 0.8044 | Val Acc: 0.7475\n",
            "Epoch 48 | Train Loss: 0.3144 | Train Acc: 0.9025 | Val Loss: 0.8130 | Val Acc: 0.7940\n",
            "Epoch 49 | Train Loss: 0.3173 | Train Acc: 0.9008 | Val Loss: 0.8541 | Val Acc: 0.7641\n",
            "Epoch 50 | Train Loss: 0.3107 | Train Acc: 0.8983 | Val Loss: 0.8172 | Val Acc: 0.7442\n",
            "Epoch 51 | Train Loss: 0.3265 | Train Acc: 0.8975 | Val Loss: 0.8354 | Val Acc: 0.7542\n",
            "Epoch 52 | Train Loss: 0.2670 | Train Acc: 0.9083 | Val Loss: 0.8726 | Val Acc: 0.7542\n",
            "Epoch 53 | Train Loss: 0.3149 | Train Acc: 0.9008 | Val Loss: 0.8870 | Val Acc: 0.7641\n",
            "Epoch 54 | Train Loss: 0.4099 | Train Acc: 0.8592 | Val Loss: 0.7929 | Val Acc: 0.7575\n",
            "Epoch 55 | Train Loss: 0.3645 | Train Acc: 0.8892 | Val Loss: 0.8538 | Val Acc: 0.7209\n",
            "Epoch 56 | Train Loss: 0.2642 | Train Acc: 0.9075 | Val Loss: 0.8833 | Val Acc: 0.7243\n",
            "Epoch 57 | Train Loss: 0.2251 | Train Acc: 0.9250 | Val Loss: 0.8623 | Val Acc: 0.7841\n",
            "Epoch 58 | Train Loss: 0.2007 | Train Acc: 0.9375 | Val Loss: 0.8715 | Val Acc: 0.7375\n",
            "Epoch 59 | Train Loss: 0.2069 | Train Acc: 0.9267 | Val Loss: 0.8535 | Val Acc: 0.7375\n",
            "Epoch 60 | Train Loss: 0.2161 | Train Acc: 0.9225 | Val Loss: 0.8467 | Val Acc: 0.7442\n"
          ]
        }
      ],
      "source": [
        "cetacean_net = CetaceanNet(num_classes=NUM_CLASSES)\n",
        "\n",
        "train_model(\n",
        "    model=cetacean_net,\n",
        "    train_loader=train_loader,\n",
        "    val_loader=val_loader,\n",
        "    y=y,\n",
        "    label2id=LABEL2ID,\n",
        "    num_classes=NUM_CLASSES,\n",
        "    project_name=\"cetacean-net\",\n",
        "    architecture=\"Multimodal Attention-Based CNN\",\n",
        "    epochs=60,\n",
        "    batch_size=BATCH_SIZE,\n",
        "    learning_rate=1e-4,\n",
        "    optimizer_name=\"AdamW\",\n",
        ")"
      ]
    },
    {
      "cell_type": "code",
      "execution_count": null,
      "metadata": {
        "id": "_NYIywIfKU9d",
        "colab": {
          "base_uri": "https://localhost:8080/",
          "height": 1000
        },
        "outputId": "dc149e55-21ee-4885-9829-1b00e202cea6"
      },
      "outputs": [
        {
          "output_type": "display_data",
          "data": {
            "text/plain": [
              "<IPython.core.display.HTML object>"
            ],
            "text/html": [
              "Finishing previous runs because reinit is set to 'default'."
            ]
          },
          "metadata": {}
        },
        {
          "output_type": "display_data",
          "data": {
            "text/plain": [
              "<IPython.core.display.HTML object>"
            ],
            "text/html": []
          },
          "metadata": {}
        },
        {
          "output_type": "display_data",
          "data": {
            "text/plain": [
              "<IPython.core.display.HTML object>"
            ],
            "text/html": [
              "<br>    <style><br>        .wandb-row {<br>            display: flex;<br>            flex-direction: row;<br>            flex-wrap: wrap;<br>            justify-content: flex-start;<br>            width: 100%;<br>        }<br>        .wandb-col {<br>            display: flex;<br>            flex-direction: column;<br>            flex-basis: 100%;<br>            flex: 1;<br>            padding: 10px;<br>        }<br>    </style><br><div class=\"wandb-row\"><div class=\"wandb-col\"><h3>Run history:</h3><br/><table class=\"wandb\"><tr><td>epoch</td><td>▁▁▁▁▂▂▂▂▂▂▃▃▃▃▃▄▄▄▄▄▄▅▅▅▅▆▆▆▆▆▇▇▇▇▇▇████</td></tr><tr><td>train_accuracy</td><td>▁▁▂▃▃▄▄▅▅▅▆▆▆▆▆▇▇▇▇▇▇▇▇▇▇▇▇▇████████████</td></tr><tr><td>train_loss</td><td>██▇▆▆▅▅▅▅▄▄▄▄▃▃▃▃▃▃▃▂▂▂▂▂▂▂▂▂▂▂▂▁▁▁▁▁▁▁▁</td></tr><tr><td>val_accuracy</td><td>▁▁▃▄▄▅▅▆▆▆▇▇▇▇▇▇▇▇▇▇██▇██████▇██████████</td></tr><tr><td>val_loss</td><td>██▇▇▆▅▄▄▃▃▃▃▂▂▂▂▂▂▂▂▁▁▁▁▁▁▁▁▁▁▁▁▁▁▁▁▁▁▁▁</td></tr></table><br/></div><div class=\"wandb-col\"><h3>Run summary:</h3><br/><table class=\"wandb\"><tr><td>epoch</td><td>60</td></tr><tr><td>train_accuracy</td><td>0.915</td></tr><tr><td>train_loss</td><td>0.24566</td></tr><tr><td>val_accuracy</td><td>0.73754</td></tr><tr><td>val_loss</td><td>0.95398</td></tr></table><br/></div></div>"
            ]
          },
          "metadata": {}
        },
        {
          "output_type": "display_data",
          "data": {
            "text/plain": [
              "<IPython.core.display.HTML object>"
            ],
            "text/html": [
              " View run <strong style=\"color:#cdcd00\">lemon-frost-11</strong> at: <a href='https://wandb.ai/ramanujachanduri/cetacean-net/runs/hygq6y5u' target=\"_blank\">https://wandb.ai/ramanujachanduri/cetacean-net/runs/hygq6y5u</a><br> View project at: <a href='https://wandb.ai/ramanujachanduri/cetacean-net' target=\"_blank\">https://wandb.ai/ramanujachanduri/cetacean-net</a><br>Synced 5 W&B file(s), 0 media file(s), 0 artifact file(s) and 0 other file(s)"
            ]
          },
          "metadata": {}
        },
        {
          "output_type": "display_data",
          "data": {
            "text/plain": [
              "<IPython.core.display.HTML object>"
            ],
            "text/html": [
              "Find logs at: <code>./wandb/run-20250727_103729-hygq6y5u/logs</code>"
            ]
          },
          "metadata": {}
        },
        {
          "output_type": "display_data",
          "data": {
            "text/plain": [
              "<IPython.core.display.HTML object>"
            ],
            "text/html": [
              "Tracking run with wandb version 0.21.0"
            ]
          },
          "metadata": {}
        },
        {
          "output_type": "display_data",
          "data": {
            "text/plain": [
              "<IPython.core.display.HTML object>"
            ],
            "text/html": [
              "Run data is saved locally in <code>/content/wandb/run-20250727_104335-s7817sf1</code>"
            ]
          },
          "metadata": {}
        },
        {
          "output_type": "display_data",
          "data": {
            "text/plain": [
              "<IPython.core.display.HTML object>"
            ],
            "text/html": [
              "Syncing run <strong><a href='https://wandb.ai/ramanujachanduri/cetacean-net/runs/s7817sf1' target=\"_blank\">fallen-pond-12</a></strong> to <a href='https://wandb.ai/ramanujachanduri/cetacean-net' target=\"_blank\">Weights & Biases</a> (<a href='https://wandb.me/developer-guide' target=\"_blank\">docs</a>)<br>"
            ]
          },
          "metadata": {}
        },
        {
          "output_type": "display_data",
          "data": {
            "text/plain": [
              "<IPython.core.display.HTML object>"
            ],
            "text/html": [
              " View project at <a href='https://wandb.ai/ramanujachanduri/cetacean-net' target=\"_blank\">https://wandb.ai/ramanujachanduri/cetacean-net</a>"
            ]
          },
          "metadata": {}
        },
        {
          "output_type": "display_data",
          "data": {
            "text/plain": [
              "<IPython.core.display.HTML object>"
            ],
            "text/html": [
              " View run at <a href='https://wandb.ai/ramanujachanduri/cetacean-net/runs/s7817sf1' target=\"_blank\">https://wandb.ai/ramanujachanduri/cetacean-net/runs/s7817sf1</a>"
            ]
          },
          "metadata": {}
        },
        {
          "output_type": "stream",
          "name": "stdout",
          "text": [
            "Total parameters: 558517\n",
            "Trainable parameters: 558517\n",
            "Epoch 1 | Train Loss: 3.2276 | Train Acc: 0.0458 | Val Loss: 3.1957 | Val Acc: 0.0399\n",
            "Epoch 2 | Train Loss: 3.1743 | Train Acc: 0.0625 | Val Loss: 3.1378 | Val Acc: 0.0698\n",
            "Epoch 3 | Train Loss: 3.0826 | Train Acc: 0.0958 | Val Loss: 3.0055 | Val Acc: 0.1794\n",
            "Epoch 4 | Train Loss: 2.9001 | Train Acc: 0.1475 | Val Loss: 2.8386 | Val Acc: 0.1694\n",
            "Epoch 5 | Train Loss: 2.7526 | Train Acc: 0.1850 | Val Loss: 2.6912 | Val Acc: 0.2824\n",
            "Epoch 6 | Train Loss: 2.6281 | Train Acc: 0.2158 | Val Loss: 2.5845 | Val Acc: 0.2757\n",
            "Epoch 7 | Train Loss: 2.4871 | Train Acc: 0.2925 | Val Loss: 2.4333 | Val Acc: 0.3654\n",
            "Epoch 8 | Train Loss: 2.3656 | Train Acc: 0.3200 | Val Loss: 2.3430 | Val Acc: 0.3887\n",
            "Epoch 9 | Train Loss: 2.2404 | Train Acc: 0.3742 | Val Loss: 2.2321 | Val Acc: 0.4252\n",
            "Epoch 10 | Train Loss: 2.1350 | Train Acc: 0.3833 | Val Loss: 2.1300 | Val Acc: 0.4419\n",
            "Epoch 11 | Train Loss: 2.0204 | Train Acc: 0.4133 | Val Loss: 2.0369 | Val Acc: 0.4784\n",
            "Epoch 12 | Train Loss: 1.9227 | Train Acc: 0.4508 | Val Loss: 1.9356 | Val Acc: 0.4884\n",
            "Epoch 13 | Train Loss: 1.8076 | Train Acc: 0.4808 | Val Loss: 1.8548 | Val Acc: 0.4950\n",
            "Epoch 14 | Train Loss: 1.7187 | Train Acc: 0.4983 | Val Loss: 1.7999 | Val Acc: 0.5183\n",
            "Epoch 15 | Train Loss: 1.6564 | Train Acc: 0.5208 | Val Loss: 1.6862 | Val Acc: 0.5482\n",
            "Epoch 16 | Train Loss: 1.5859 | Train Acc: 0.5367 | Val Loss: 1.6228 | Val Acc: 0.5980\n",
            "Epoch 17 | Train Loss: 1.5107 | Train Acc: 0.5525 | Val Loss: 1.5733 | Val Acc: 0.6047\n",
            "Epoch 18 | Train Loss: 1.4369 | Train Acc: 0.5750 | Val Loss: 1.5393 | Val Acc: 0.5615\n",
            "Epoch 19 | Train Loss: 1.3815 | Train Acc: 0.5875 | Val Loss: 1.4414 | Val Acc: 0.6279\n",
            "Epoch 20 | Train Loss: 1.2958 | Train Acc: 0.6158 | Val Loss: 1.4207 | Val Acc: 0.6146\n",
            "Epoch 21 | Train Loss: 1.2547 | Train Acc: 0.6400 | Val Loss: 1.3977 | Val Acc: 0.6013\n",
            "Epoch 22 | Train Loss: 1.1797 | Train Acc: 0.6492 | Val Loss: 1.3256 | Val Acc: 0.6246\n",
            "Epoch 23 | Train Loss: 1.1277 | Train Acc: 0.6658 | Val Loss: 1.3100 | Val Acc: 0.6379\n",
            "Epoch 24 | Train Loss: 1.0875 | Train Acc: 0.6908 | Val Loss: 1.2397 | Val Acc: 0.6478\n",
            "Epoch 25 | Train Loss: 1.0685 | Train Acc: 0.6967 | Val Loss: 1.2522 | Val Acc: 0.6412\n",
            "Epoch 26 | Train Loss: 1.0051 | Train Acc: 0.7100 | Val Loss: 1.2017 | Val Acc: 0.6645\n",
            "Epoch 27 | Train Loss: 0.9528 | Train Acc: 0.7133 | Val Loss: 1.2118 | Val Acc: 0.6545\n",
            "Epoch 28 | Train Loss: 0.9368 | Train Acc: 0.7125 | Val Loss: 1.2282 | Val Acc: 0.6578\n",
            "Epoch 29 | Train Loss: 0.9123 | Train Acc: 0.7375 | Val Loss: 1.1900 | Val Acc: 0.6611\n",
            "Epoch 30 | Train Loss: 0.8660 | Train Acc: 0.7383 | Val Loss: 1.1192 | Val Acc: 0.6811\n",
            "Epoch 31 | Train Loss: 0.8246 | Train Acc: 0.7483 | Val Loss: 1.1057 | Val Acc: 0.6678\n",
            "Epoch 32 | Train Loss: 0.7962 | Train Acc: 0.7675 | Val Loss: 1.0637 | Val Acc: 0.6877\n",
            "Epoch 33 | Train Loss: 0.7498 | Train Acc: 0.7900 | Val Loss: 1.1049 | Val Acc: 0.6844\n",
            "Epoch 34 | Train Loss: 0.7417 | Train Acc: 0.7700 | Val Loss: 1.0726 | Val Acc: 0.7043\n",
            "Epoch 35 | Train Loss: 0.6912 | Train Acc: 0.8025 | Val Loss: 1.0841 | Val Acc: 0.6611\n",
            "Epoch 36 | Train Loss: 0.6867 | Train Acc: 0.7908 | Val Loss: 1.0829 | Val Acc: 0.6645\n",
            "Epoch 37 | Train Loss: 0.6295 | Train Acc: 0.8108 | Val Loss: 1.0550 | Val Acc: 0.7043\n",
            "Epoch 38 | Train Loss: 0.6250 | Train Acc: 0.8125 | Val Loss: 1.0941 | Val Acc: 0.6844\n",
            "Epoch 39 | Train Loss: 0.5930 | Train Acc: 0.8200 | Val Loss: 1.0375 | Val Acc: 0.7010\n",
            "Epoch 40 | Train Loss: 0.5572 | Train Acc: 0.8433 | Val Loss: 1.0074 | Val Acc: 0.7110\n",
            "Epoch 41 | Train Loss: 0.5970 | Train Acc: 0.8133 | Val Loss: 1.1390 | Val Acc: 0.6678\n",
            "Epoch 42 | Train Loss: 0.6363 | Train Acc: 0.8075 | Val Loss: 1.0831 | Val Acc: 0.6844\n",
            "Epoch 43 | Train Loss: 0.5140 | Train Acc: 0.8517 | Val Loss: 0.9562 | Val Acc: 0.7209\n",
            "Epoch 44 | Train Loss: 0.5159 | Train Acc: 0.8492 | Val Loss: 1.0977 | Val Acc: 0.6844\n",
            "Epoch 45 | Train Loss: 0.4794 | Train Acc: 0.8525 | Val Loss: 0.9936 | Val Acc: 0.7043\n",
            "Epoch 46 | Train Loss: 0.4417 | Train Acc: 0.8700 | Val Loss: 0.9931 | Val Acc: 0.7243\n",
            "Epoch 47 | Train Loss: 0.4956 | Train Acc: 0.8408 | Val Loss: 0.9962 | Val Acc: 0.7043\n",
            "Epoch 48 | Train Loss: 0.4208 | Train Acc: 0.8667 | Val Loss: 0.9657 | Val Acc: 0.7309\n",
            "Epoch 49 | Train Loss: 0.4278 | Train Acc: 0.8592 | Val Loss: 1.0324 | Val Acc: 0.6711\n",
            "Epoch 50 | Train Loss: 0.3927 | Train Acc: 0.8742 | Val Loss: 1.0578 | Val Acc: 0.6844\n",
            "Epoch 51 | Train Loss: 0.3803 | Train Acc: 0.8817 | Val Loss: 1.0316 | Val Acc: 0.6977\n",
            "Epoch 52 | Train Loss: 0.3712 | Train Acc: 0.8833 | Val Loss: 1.0289 | Val Acc: 0.6977\n",
            "Epoch 53 | Train Loss: 0.3453 | Train Acc: 0.8917 | Val Loss: 1.0187 | Val Acc: 0.7010\n",
            "Epoch 54 | Train Loss: 0.3312 | Train Acc: 0.9008 | Val Loss: 1.0356 | Val Acc: 0.6910\n",
            "Epoch 55 | Train Loss: 0.3240 | Train Acc: 0.9033 | Val Loss: 1.0315 | Val Acc: 0.6977\n",
            "Epoch 56 | Train Loss: 0.3040 | Train Acc: 0.9042 | Val Loss: 1.0734 | Val Acc: 0.6977\n",
            "Epoch 57 | Train Loss: 0.3014 | Train Acc: 0.9133 | Val Loss: 1.0834 | Val Acc: 0.6910\n",
            "Epoch 58 | Train Loss: 0.3070 | Train Acc: 0.8925 | Val Loss: 1.0862 | Val Acc: 0.6944\n",
            "Epoch 59 | Train Loss: 0.3027 | Train Acc: 0.9025 | Val Loss: 1.0427 | Val Acc: 0.6977\n",
            "Epoch 60 | Train Loss: 0.2855 | Train Acc: 0.9000 | Val Loss: 1.0899 | Val Acc: 0.6877\n"
          ]
        }
      ],
      "source": [
        "cetacean_net_light = CetaceanNetLight(num_classes=NUM_CLASSES)\n",
        "\n",
        "train_model(\n",
        "    model=cetacean_net_light,\n",
        "    train_loader=train_loader,\n",
        "    val_loader=val_loader,\n",
        "    y=y,\n",
        "    label2id=LABEL2ID,\n",
        "    num_classes=NUM_CLASSES,\n",
        "    project_name=\"cetacean-net\",\n",
        "    architecture=\"Lightweight version of CetaceanNet: A Multimodal Attention-Based CNN\",\n",
        "    epochs=60,\n",
        "    batch_size=BATCH_SIZE,\n",
        "    learning_rate=1e-4,\n",
        "    optimizer_name=\"AdamW\",\n",
        ")"
      ]
    },
    {
      "cell_type": "code",
      "source": [
        "mobilenetv2_combined = MobileNetV2Combined(num_classes=NUM_CLASSES)\n",
        "\n",
        "train_model(\n",
        "    model=mobilenetv2_combined,\n",
        "    train_loader=train_loader,\n",
        "    val_loader=val_loader,\n",
        "    y=y,\n",
        "    label2id=LABEL2ID,\n",
        "    num_classes=NUM_CLASSES,\n",
        "    project_name=\"cetacean-net\",\n",
        "    architecture=\"MobileNet V2, with all three features\",\n",
        "    epochs=60,\n",
        "    batch_size=BATCH_SIZE,\n",
        "    learning_rate=1e-4,\n",
        "    optimizer_name=\"AdamW\",\n",
        ")"
      ],
      "metadata": {
        "colab": {
          "base_uri": "https://localhost:8080/",
          "height": 1000
        },
        "id": "AKmqIfzdJNdQ",
        "outputId": "8709297a-9e64-4f87-97ff-31c0ecc4c82b"
      },
      "execution_count": null,
      "outputs": [
        {
          "output_type": "stream",
          "name": "stderr",
          "text": [
            "/usr/local/lib/python3.11/dist-packages/torchvision/models/_utils.py:208: UserWarning: The parameter 'pretrained' is deprecated since 0.13 and may be removed in the future, please use 'weights' instead.\n",
            "  warnings.warn(\n",
            "/usr/local/lib/python3.11/dist-packages/torchvision/models/_utils.py:223: UserWarning: Arguments other than a weight enum or `None` for 'weights' are deprecated since 0.13 and may be removed in the future. The current behavior is equivalent to passing `weights=MobileNet_V2_Weights.IMAGENET1K_V1`. You can also use `weights=MobileNet_V2_Weights.DEFAULT` to get the most up-to-date weights.\n",
            "  warnings.warn(msg)\n"
          ]
        },
        {
          "output_type": "display_data",
          "data": {
            "text/plain": [
              "<IPython.core.display.HTML object>"
            ],
            "text/html": [
              "Finishing previous runs because reinit is set to 'default'."
            ]
          },
          "metadata": {}
        },
        {
          "output_type": "display_data",
          "data": {
            "text/plain": [
              "<IPython.core.display.HTML object>"
            ],
            "text/html": []
          },
          "metadata": {}
        },
        {
          "output_type": "display_data",
          "data": {
            "text/plain": [
              "<IPython.core.display.HTML object>"
            ],
            "text/html": [
              "<br>    <style><br>        .wandb-row {<br>            display: flex;<br>            flex-direction: row;<br>            flex-wrap: wrap;<br>            justify-content: flex-start;<br>            width: 100%;<br>        }<br>        .wandb-col {<br>            display: flex;<br>            flex-direction: column;<br>            flex-basis: 100%;<br>            flex: 1;<br>            padding: 10px;<br>        }<br>    </style><br><div class=\"wandb-row\"><div class=\"wandb-col\"><h3>Run history:</h3><br/><table class=\"wandb\"><tr><td>epoch</td><td>▁▁▁▁▂▂▂▂▂▃▃▃▄▄▄▄▄▅▅▅▅▅▅▆▆▆▆▆▆▆▇▇▇▇▇▇████</td></tr><tr><td>train_accuracy</td><td>▁▄▆▆▇███████████████████████████████████</td></tr><tr><td>train_loss</td><td>█▅▄▃▂▂▁▁▁▁▁▁▁▁▁▁▁▁▁▁▁▁▁▁▁▁▁▂▁▁▁▁▁▁▁▁▁▁▁▁</td></tr><tr><td>val_accuracy</td><td>▁▆▇▇▇▇▇▇▇█▇▇▇▇▇▇█▇▇█▇▇▇▇▇▇▇██▇▇▇██▇▇▇▇▇█</td></tr><tr><td>val_loss</td><td>█▄▃▂▁▁▁▂▁▁▂▂▂▂▂▂▂▂▂▂▃▃▂▂▂▃▂▂▃▂▃▃▃▃▃▃▃▄▃▄</td></tr></table><br/></div><div class=\"wandb-col\"><h3>Run summary:</h3><br/><table class=\"wandb\"><tr><td>epoch</td><td>60</td></tr><tr><td>train_accuracy</td><td>0.96333</td></tr><tr><td>train_loss</td><td>0.04385</td></tr><tr><td>val_accuracy</td><td>0.76412</td></tr><tr><td>val_loss</td><td>1.23698</td></tr></table><br/></div></div>"
            ]
          },
          "metadata": {}
        },
        {
          "output_type": "display_data",
          "data": {
            "text/plain": [
              "<IPython.core.display.HTML object>"
            ],
            "text/html": [
              " View run <strong style=\"color:#cdcd00\">resilient-dew-13</strong> at: <a href='https://wandb.ai/ramanujachanduri/cetacean-net/runs/jbuieg6v' target=\"_blank\">https://wandb.ai/ramanujachanduri/cetacean-net/runs/jbuieg6v</a><br> View project at: <a href='https://wandb.ai/ramanujachanduri/cetacean-net' target=\"_blank\">https://wandb.ai/ramanujachanduri/cetacean-net</a><br>Synced 5 W&B file(s), 0 media file(s), 0 artifact file(s) and 0 other file(s)"
            ]
          },
          "metadata": {}
        },
        {
          "output_type": "display_data",
          "data": {
            "text/plain": [
              "<IPython.core.display.HTML object>"
            ],
            "text/html": [
              "Find logs at: <code>./wandb/run-20250727_104939-jbuieg6v/logs</code>"
            ]
          },
          "metadata": {}
        },
        {
          "output_type": "display_data",
          "data": {
            "text/plain": [
              "<IPython.core.display.HTML object>"
            ],
            "text/html": [
              "Tracking run with wandb version 0.21.0"
            ]
          },
          "metadata": {}
        },
        {
          "output_type": "display_data",
          "data": {
            "text/plain": [
              "<IPython.core.display.HTML object>"
            ],
            "text/html": [
              "Run data is saved locally in <code>/content/wandb/run-20250727_105656-56yunde9</code>"
            ]
          },
          "metadata": {}
        },
        {
          "output_type": "display_data",
          "data": {
            "text/plain": [
              "<IPython.core.display.HTML object>"
            ],
            "text/html": [
              "Syncing run <strong><a href='https://wandb.ai/ramanujachanduri/cetacean-net/runs/56yunde9' target=\"_blank\">devout-flower-14</a></strong> to <a href='https://wandb.ai/ramanujachanduri/cetacean-net' target=\"_blank\">Weights & Biases</a> (<a href='https://wandb.me/developer-guide' target=\"_blank\">docs</a>)<br>"
            ]
          },
          "metadata": {}
        },
        {
          "output_type": "display_data",
          "data": {
            "text/plain": [
              "<IPython.core.display.HTML object>"
            ],
            "text/html": [
              " View project at <a href='https://wandb.ai/ramanujachanduri/cetacean-net' target=\"_blank\">https://wandb.ai/ramanujachanduri/cetacean-net</a>"
            ]
          },
          "metadata": {}
        },
        {
          "output_type": "display_data",
          "data": {
            "text/plain": [
              "<IPython.core.display.HTML object>"
            ],
            "text/html": [
              " View run at <a href='https://wandb.ai/ramanujachanduri/cetacean-net/runs/56yunde9' target=\"_blank\">https://wandb.ai/ramanujachanduri/cetacean-net/runs/56yunde9</a>"
            ]
          },
          "metadata": {}
        },
        {
          "output_type": "stream",
          "name": "stdout",
          "text": [
            "Total parameters: 2255897\n",
            "Trainable parameters: 2255897\n",
            "Epoch 1 | Train Loss: 2.6898 | Train Acc: 0.2775 | Val Loss: 2.1048 | Val Acc: 0.4684\n",
            "Epoch 2 | Train Loss: 1.6097 | Train Acc: 0.6108 | Val Loss: 1.4021 | Val Acc: 0.6179\n",
            "Epoch 3 | Train Loss: 1.0191 | Train Acc: 0.7458 | Val Loss: 1.0810 | Val Acc: 0.6944\n",
            "Epoch 4 | Train Loss: 0.6768 | Train Acc: 0.8250 | Val Loss: 0.8938 | Val Acc: 0.7342\n",
            "Epoch 5 | Train Loss: 0.4384 | Train Acc: 0.8867 | Val Loss: 0.8101 | Val Acc: 0.7442\n",
            "Epoch 6 | Train Loss: 0.3062 | Train Acc: 0.9142 | Val Loss: 0.7929 | Val Acc: 0.7442\n",
            "Epoch 7 | Train Loss: 0.2167 | Train Acc: 0.9383 | Val Loss: 0.7231 | Val Acc: 0.7807\n",
            "Epoch 8 | Train Loss: 0.1621 | Train Acc: 0.9458 | Val Loss: 0.7637 | Val Acc: 0.7575\n",
            "Epoch 9 | Train Loss: 0.1314 | Train Acc: 0.9592 | Val Loss: 0.7556 | Val Acc: 0.7542\n",
            "Epoch 10 | Train Loss: 0.1162 | Train Acc: 0.9525 | Val Loss: 0.7697 | Val Acc: 0.7641\n",
            "Epoch 11 | Train Loss: 0.0957 | Train Acc: 0.9592 | Val Loss: 0.7732 | Val Acc: 0.7641\n",
            "Epoch 12 | Train Loss: 0.0878 | Train Acc: 0.9583 | Val Loss: 0.7564 | Val Acc: 0.7708\n",
            "Epoch 13 | Train Loss: 0.0837 | Train Acc: 0.9500 | Val Loss: 0.8433 | Val Acc: 0.7608\n",
            "Epoch 14 | Train Loss: 0.0851 | Train Acc: 0.9550 | Val Loss: 0.8000 | Val Acc: 0.7674\n",
            "Epoch 15 | Train Loss: 0.0743 | Train Acc: 0.9567 | Val Loss: 0.8289 | Val Acc: 0.7641\n",
            "Epoch 16 | Train Loss: 0.0718 | Train Acc: 0.9600 | Val Loss: 0.8216 | Val Acc: 0.7442\n",
            "Epoch 17 | Train Loss: 0.0722 | Train Acc: 0.9650 | Val Loss: 0.8568 | Val Acc: 0.7475\n",
            "Epoch 18 | Train Loss: 0.0786 | Train Acc: 0.9525 | Val Loss: 0.8874 | Val Acc: 0.7375\n",
            "Epoch 19 | Train Loss: 0.0614 | Train Acc: 0.9608 | Val Loss: 0.8232 | Val Acc: 0.7774\n",
            "Epoch 20 | Train Loss: 0.0561 | Train Acc: 0.9608 | Val Loss: 0.8952 | Val Acc: 0.7575\n",
            "Epoch 21 | Train Loss: 0.0553 | Train Acc: 0.9650 | Val Loss: 0.8313 | Val Acc: 0.7774\n",
            "Epoch 22 | Train Loss: 0.0565 | Train Acc: 0.9575 | Val Loss: 0.8998 | Val Acc: 0.7508\n",
            "Epoch 23 | Train Loss: 0.0610 | Train Acc: 0.9600 | Val Loss: 0.8469 | Val Acc: 0.7608\n",
            "Epoch 24 | Train Loss: 0.0616 | Train Acc: 0.9600 | Val Loss: 0.8930 | Val Acc: 0.7575\n",
            "Epoch 25 | Train Loss: 0.0521 | Train Acc: 0.9625 | Val Loss: 0.9419 | Val Acc: 0.7608\n",
            "Epoch 26 | Train Loss: 0.0607 | Train Acc: 0.9617 | Val Loss: 0.9176 | Val Acc: 0.7608\n",
            "Epoch 27 | Train Loss: 0.0606 | Train Acc: 0.9608 | Val Loss: 0.9125 | Val Acc: 0.7475\n",
            "Epoch 28 | Train Loss: 0.0524 | Train Acc: 0.9600 | Val Loss: 0.9225 | Val Acc: 0.7508\n",
            "Epoch 29 | Train Loss: 0.0554 | Train Acc: 0.9642 | Val Loss: 0.9137 | Val Acc: 0.7542\n",
            "Epoch 30 | Train Loss: 0.0683 | Train Acc: 0.9617 | Val Loss: 0.9035 | Val Acc: 0.7508\n",
            "Epoch 31 | Train Loss: 0.0688 | Train Acc: 0.9550 | Val Loss: 0.9070 | Val Acc: 0.7508\n",
            "Epoch 32 | Train Loss: 0.0577 | Train Acc: 0.9592 | Val Loss: 0.9627 | Val Acc: 0.7575\n",
            "Epoch 33 | Train Loss: 0.0554 | Train Acc: 0.9583 | Val Loss: 0.9821 | Val Acc: 0.7475\n",
            "Epoch 34 | Train Loss: 0.0549 | Train Acc: 0.9592 | Val Loss: 0.9886 | Val Acc: 0.7342\n",
            "Epoch 35 | Train Loss: 0.0547 | Train Acc: 0.9592 | Val Loss: 0.8925 | Val Acc: 0.7542\n",
            "Epoch 36 | Train Loss: 0.0521 | Train Acc: 0.9608 | Val Loss: 0.9919 | Val Acc: 0.7608\n",
            "Epoch 37 | Train Loss: 0.0520 | Train Acc: 0.9600 | Val Loss: 0.9692 | Val Acc: 0.7674\n",
            "Epoch 38 | Train Loss: 0.0485 | Train Acc: 0.9633 | Val Loss: 1.0030 | Val Acc: 0.7542\n",
            "Epoch 39 | Train Loss: 0.0526 | Train Acc: 0.9567 | Val Loss: 0.9516 | Val Acc: 0.7409\n",
            "Epoch 40 | Train Loss: 0.0772 | Train Acc: 0.9567 | Val Loss: 1.0174 | Val Acc: 0.7442\n",
            "Epoch 41 | Train Loss: 0.0893 | Train Acc: 0.9525 | Val Loss: 0.9234 | Val Acc: 0.7475\n",
            "Epoch 42 | Train Loss: 0.1129 | Train Acc: 0.9492 | Val Loss: 1.0508 | Val Acc: 0.7409\n",
            "Epoch 43 | Train Loss: 0.1240 | Train Acc: 0.9400 | Val Loss: 1.0276 | Val Acc: 0.7309\n",
            "Epoch 44 | Train Loss: 0.0689 | Train Acc: 0.9575 | Val Loss: 0.9273 | Val Acc: 0.7708\n",
            "Epoch 45 | Train Loss: 0.0515 | Train Acc: 0.9642 | Val Loss: 1.0566 | Val Acc: 0.7708\n",
            "Epoch 46 | Train Loss: 0.0504 | Train Acc: 0.9600 | Val Loss: 1.0685 | Val Acc: 0.7674\n",
            "Epoch 47 | Train Loss: 0.0473 | Train Acc: 0.9608 | Val Loss: 1.1012 | Val Acc: 0.7608\n",
            "Epoch 48 | Train Loss: 0.0462 | Train Acc: 0.9625 | Val Loss: 1.0847 | Val Acc: 0.7542\n",
            "Epoch 49 | Train Loss: 0.0468 | Train Acc: 0.9633 | Val Loss: 1.1185 | Val Acc: 0.7674\n",
            "Epoch 50 | Train Loss: 0.0462 | Train Acc: 0.9608 | Val Loss: 1.0178 | Val Acc: 0.7641\n",
            "Epoch 51 | Train Loss: 0.0450 | Train Acc: 0.9600 | Val Loss: 1.1466 | Val Acc: 0.7741\n",
            "Epoch 52 | Train Loss: 0.0433 | Train Acc: 0.9600 | Val Loss: 1.1356 | Val Acc: 0.7741\n",
            "Epoch 53 | Train Loss: 0.0433 | Train Acc: 0.9625 | Val Loss: 1.1409 | Val Acc: 0.7807\n",
            "Epoch 54 | Train Loss: 0.0429 | Train Acc: 0.9625 | Val Loss: 1.1202 | Val Acc: 0.7807\n",
            "Epoch 55 | Train Loss: 0.0434 | Train Acc: 0.9617 | Val Loss: 1.1600 | Val Acc: 0.7741\n",
            "Epoch 56 | Train Loss: 0.0441 | Train Acc: 0.9608 | Val Loss: 1.1640 | Val Acc: 0.7674\n",
            "Epoch 57 | Train Loss: 0.0434 | Train Acc: 0.9633 | Val Loss: 1.2302 | Val Acc: 0.7741\n",
            "Epoch 58 | Train Loss: 0.0419 | Train Acc: 0.9633 | Val Loss: 1.2069 | Val Acc: 0.7774\n",
            "Epoch 59 | Train Loss: 0.0426 | Train Acc: 0.9650 | Val Loss: 1.1732 | Val Acc: 0.7674\n",
            "Epoch 60 | Train Loss: 0.0416 | Train Acc: 0.9642 | Val Loss: 1.2007 | Val Acc: 0.7741\n"
          ]
        }
      ]
    },
    {
      "cell_type": "code",
      "source": [
        "mobilenetv2_mel = MobileNetV2(num_classes=NUM_CLASSES)\n",
        "\n",
        "train_model(\n",
        "    model=mobilenetv2_mel,\n",
        "    train_loader=train_mel_loader,\n",
        "    val_loader=val_mel_loader,\n",
        "    y=y,\n",
        "    label2id=LABEL2ID,\n",
        "    num_classes=NUM_CLASSES,\n",
        "    project_name=\"cetacean-net\",\n",
        "    architecture=\"MobileNet V2, with MEL Features\",\n",
        "    epochs=60,\n",
        "    batch_size=BATCH_SIZE,\n",
        "    learning_rate=1e-4,\n",
        "    optimizer_name=\"AdamW\",\n",
        ")"
      ],
      "metadata": {
        "colab": {
          "base_uri": "https://localhost:8080/",
          "height": 1000
        },
        "id": "9quYr39zJNZ2",
        "outputId": "d2b4c224-2de2-4a5b-e8e1-b6a18da24e7b"
      },
      "execution_count": null,
      "outputs": [
        {
          "output_type": "stream",
          "name": "stderr",
          "text": [
            "/usr/local/lib/python3.11/dist-packages/torchvision/models/_utils.py:208: UserWarning: The parameter 'pretrained' is deprecated since 0.13 and may be removed in the future, please use 'weights' instead.\n",
            "  warnings.warn(\n",
            "/usr/local/lib/python3.11/dist-packages/torchvision/models/_utils.py:223: UserWarning: Arguments other than a weight enum or `None` for 'weights' are deprecated since 0.13 and may be removed in the future. The current behavior is equivalent to passing `weights=None`.\n",
            "  warnings.warn(msg)\n"
          ]
        },
        {
          "output_type": "display_data",
          "data": {
            "text/plain": [
              "<IPython.core.display.HTML object>"
            ],
            "text/html": [
              "Finishing previous runs because reinit is set to 'default'."
            ]
          },
          "metadata": {}
        },
        {
          "output_type": "display_data",
          "data": {
            "text/plain": [
              "<IPython.core.display.HTML object>"
            ],
            "text/html": []
          },
          "metadata": {}
        },
        {
          "output_type": "display_data",
          "data": {
            "text/plain": [
              "<IPython.core.display.HTML object>"
            ],
            "text/html": [
              "<br>    <style><br>        .wandb-row {<br>            display: flex;<br>            flex-direction: row;<br>            flex-wrap: wrap;<br>            justify-content: flex-start;<br>            width: 100%;<br>        }<br>        .wandb-col {<br>            display: flex;<br>            flex-direction: column;<br>            flex-basis: 100%;<br>            flex: 1;<br>            padding: 10px;<br>        }<br>    </style><br><div class=\"wandb-row\"><div class=\"wandb-col\"><h3>Run history:</h3><br/><table class=\"wandb\"><tr><td>epoch</td><td>▁▁▁▁▁▂▂▂▂▂▃▃▃▃▃▄▄▄▄▄▅▅▅▅▅▅▆▆▆▆▆▇▇▇▇▇████</td></tr><tr><td>train_accuracy</td><td>▁▂▂▂▃▃▃▄▄▄▅▅▅▆▆▆▆▆▇▇▇▇▇▇▇█▇█████████████</td></tr><tr><td>train_loss</td><td>█▇▆▆▆▅▅▄▄▄▄▃▃▃▃▃▃▃▂▂▂▂▂▂▂▁▂▁▁▁▁▁▁▁▁▁▁▁▁▁</td></tr><tr><td>val_accuracy</td><td>▁▁▅▄▃▃▅▅▄▃▅▆▅▆▆▇▆▃▄▇▇▃▆▃▇▃▂▅▃▃▅▆▆▆▆██▅▄▂</td></tr><tr><td>val_loss</td><td>▁▂▃▅▆▄▅▂▅▃▅▄▄▃▄▄▃▄▅▅▄▆▄▃▅██▄▅▆▅▅▄▆▄▆▃▆▅▆</td></tr></table><br/></div><div class=\"wandb-col\"><h3>Run summary:</h3><br/><table class=\"wandb\"><tr><td>epoch</td><td>60</td></tr><tr><td>train_accuracy</td><td>0.9325</td></tr><tr><td>train_loss</td><td>0.15449</td></tr><tr><td>val_accuracy</td><td>0.06312</td></tr><tr><td>val_loss</td><td>7.66386</td></tr></table><br/></div></div>"
            ]
          },
          "metadata": {}
        },
        {
          "output_type": "display_data",
          "data": {
            "text/plain": [
              "<IPython.core.display.HTML object>"
            ],
            "text/html": [
              " View run <strong style=\"color:#cdcd00\">robust-morning-15</strong> at: <a href='https://wandb.ai/ramanujachanduri/cetacean-net/runs/kqcasq4e' target=\"_blank\">https://wandb.ai/ramanujachanduri/cetacean-net/runs/kqcasq4e</a><br> View project at: <a href='https://wandb.ai/ramanujachanduri/cetacean-net' target=\"_blank\">https://wandb.ai/ramanujachanduri/cetacean-net</a><br>Synced 5 W&B file(s), 0 media file(s), 0 artifact file(s) and 0 other file(s)"
            ]
          },
          "metadata": {}
        },
        {
          "output_type": "display_data",
          "data": {
            "text/plain": [
              "<IPython.core.display.HTML object>"
            ],
            "text/html": [
              "Find logs at: <code>./wandb/run-20250727_110907-kqcasq4e/logs</code>"
            ]
          },
          "metadata": {}
        },
        {
          "output_type": "display_data",
          "data": {
            "text/plain": [
              "<IPython.core.display.HTML object>"
            ],
            "text/html": [
              "Tracking run with wandb version 0.21.0"
            ]
          },
          "metadata": {}
        },
        {
          "output_type": "display_data",
          "data": {
            "text/plain": [
              "<IPython.core.display.HTML object>"
            ],
            "text/html": [
              "Run data is saved locally in <code>/content/wandb/run-20250727_111536-m67vlupf</code>"
            ]
          },
          "metadata": {}
        },
        {
          "output_type": "display_data",
          "data": {
            "text/plain": [
              "<IPython.core.display.HTML object>"
            ],
            "text/html": [
              "Syncing run <strong><a href='https://wandb.ai/ramanujachanduri/cetacean-net/runs/m67vlupf' target=\"_blank\">devoted-lake-16</a></strong> to <a href='https://wandb.ai/ramanujachanduri/cetacean-net' target=\"_blank\">Weights & Biases</a> (<a href='https://wandb.me/developer-guide' target=\"_blank\">docs</a>)<br>"
            ]
          },
          "metadata": {}
        },
        {
          "output_type": "display_data",
          "data": {
            "text/plain": [
              "<IPython.core.display.HTML object>"
            ],
            "text/html": [
              " View project at <a href='https://wandb.ai/ramanujachanduri/cetacean-net' target=\"_blank\">https://wandb.ai/ramanujachanduri/cetacean-net</a>"
            ]
          },
          "metadata": {}
        },
        {
          "output_type": "display_data",
          "data": {
            "text/plain": [
              "<IPython.core.display.HTML object>"
            ],
            "text/html": [
              " View run at <a href='https://wandb.ai/ramanujachanduri/cetacean-net/runs/m67vlupf' target=\"_blank\">https://wandb.ai/ramanujachanduri/cetacean-net/runs/m67vlupf</a>"
            ]
          },
          "metadata": {}
        },
        {
          "output_type": "stream",
          "name": "stdout",
          "text": [
            "Total parameters: 2255321\n",
            "Trainable parameters: 2255321\n",
            "Epoch 1 | Train Loss: 3.1379 | Train Acc: 0.0833 | Val Loss: 3.2769 | Val Acc: 0.0432\n",
            "Epoch 2 | Train Loss: 2.9102 | Train Acc: 0.1617 | Val Loss: 3.3407 | Val Acc: 0.0532\n",
            "Epoch 3 | Train Loss: 2.6904 | Train Acc: 0.1767 | Val Loss: 3.0635 | Val Acc: 0.1329\n",
            "Epoch 4 | Train Loss: 2.4922 | Train Acc: 0.2058 | Val Loss: 2.7548 | Val Acc: 0.1561\n",
            "Epoch 5 | Train Loss: 2.3515 | Train Acc: 0.2600 | Val Loss: 2.6780 | Val Acc: 0.1595\n",
            "Epoch 6 | Train Loss: 2.1977 | Train Acc: 0.3375 | Val Loss: 2.9919 | Val Acc: 0.1229\n",
            "Epoch 7 | Train Loss: 2.0577 | Train Acc: 0.3292 | Val Loss: 3.8926 | Val Acc: 0.1130\n",
            "Epoch 8 | Train Loss: 1.9597 | Train Acc: 0.3925 | Val Loss: 7.4377 | Val Acc: 0.1030\n",
            "Epoch 9 | Train Loss: 1.8446 | Train Acc: 0.4225 | Val Loss: 3.8091 | Val Acc: 0.1262\n",
            "Epoch 10 | Train Loss: 1.7285 | Train Acc: 0.4483 | Val Loss: 2.8094 | Val Acc: 0.1993\n",
            "Epoch 11 | Train Loss: 1.6448 | Train Acc: 0.4833 | Val Loss: 3.2688 | Val Acc: 0.1694\n",
            "Epoch 12 | Train Loss: 1.5075 | Train Acc: 0.5117 | Val Loss: 2.8347 | Val Acc: 0.2193\n",
            "Epoch 13 | Train Loss: 1.4307 | Train Acc: 0.5500 | Val Loss: 4.1179 | Val Acc: 0.1395\n",
            "Epoch 14 | Train Loss: 1.3431 | Train Acc: 0.5742 | Val Loss: 2.8090 | Val Acc: 0.2425\n",
            "Epoch 15 | Train Loss: 1.2591 | Train Acc: 0.5900 | Val Loss: 4.5248 | Val Acc: 0.1561\n",
            "Epoch 16 | Train Loss: 1.1732 | Train Acc: 0.6375 | Val Loss: 3.6836 | Val Acc: 0.1395\n",
            "Epoch 17 | Train Loss: 1.0704 | Train Acc: 0.6558 | Val Loss: 3.3480 | Val Acc: 0.2060\n",
            "Epoch 18 | Train Loss: 1.0007 | Train Acc: 0.6833 | Val Loss: 3.0359 | Val Acc: 0.2193\n",
            "Epoch 19 | Train Loss: 0.8934 | Train Acc: 0.7133 | Val Loss: 3.1779 | Val Acc: 0.1960\n",
            "Epoch 20 | Train Loss: 0.8910 | Train Acc: 0.7267 | Val Loss: 3.1936 | Val Acc: 0.2093\n",
            "Epoch 21 | Train Loss: 0.8323 | Train Acc: 0.7433 | Val Loss: 3.3274 | Val Acc: 0.1761\n",
            "Epoch 22 | Train Loss: 0.7885 | Train Acc: 0.7325 | Val Loss: 3.5988 | Val Acc: 0.1661\n",
            "Epoch 23 | Train Loss: 0.7808 | Train Acc: 0.7383 | Val Loss: 3.3183 | Val Acc: 0.2027\n",
            "Epoch 24 | Train Loss: 0.6862 | Train Acc: 0.7858 | Val Loss: 3.5750 | Val Acc: 0.1561\n",
            "Epoch 25 | Train Loss: 0.6416 | Train Acc: 0.7958 | Val Loss: 3.3129 | Val Acc: 0.1993\n",
            "Epoch 26 | Train Loss: 0.6124 | Train Acc: 0.7958 | Val Loss: 3.4807 | Val Acc: 0.1827\n",
            "Epoch 27 | Train Loss: 0.5676 | Train Acc: 0.8133 | Val Loss: 3.5403 | Val Acc: 0.2060\n",
            "Epoch 28 | Train Loss: 0.5295 | Train Acc: 0.8200 | Val Loss: 3.9043 | Val Acc: 0.1761\n",
            "Epoch 29 | Train Loss: 0.5285 | Train Acc: 0.8275 | Val Loss: 3.0937 | Val Acc: 0.2492\n",
            "Epoch 30 | Train Loss: 0.4831 | Train Acc: 0.8425 | Val Loss: 3.5636 | Val Acc: 0.2392\n",
            "Epoch 31 | Train Loss: 0.4619 | Train Acc: 0.8433 | Val Loss: 3.3116 | Val Acc: 0.2359\n",
            "Epoch 32 | Train Loss: 0.4132 | Train Acc: 0.8633 | Val Loss: 3.2716 | Val Acc: 0.2193\n",
            "Epoch 33 | Train Loss: 0.3658 | Train Acc: 0.8917 | Val Loss: 4.1167 | Val Acc: 0.2060\n",
            "Epoch 34 | Train Loss: 0.3397 | Train Acc: 0.8858 | Val Loss: 3.4462 | Val Acc: 0.2259\n",
            "Epoch 35 | Train Loss: 0.3596 | Train Acc: 0.8842 | Val Loss: 4.2945 | Val Acc: 0.1561\n",
            "Epoch 36 | Train Loss: 0.3940 | Train Acc: 0.8633 | Val Loss: 3.8680 | Val Acc: 0.2259\n",
            "Epoch 37 | Train Loss: 0.3143 | Train Acc: 0.8892 | Val Loss: 4.0469 | Val Acc: 0.2027\n",
            "Epoch 38 | Train Loss: 0.3121 | Train Acc: 0.8867 | Val Loss: 4.1083 | Val Acc: 0.1927\n",
            "Epoch 39 | Train Loss: 0.2446 | Train Acc: 0.9150 | Val Loss: 4.8780 | Val Acc: 0.1262\n",
            "Epoch 40 | Train Loss: 0.2526 | Train Acc: 0.9075 | Val Loss: 4.8545 | Val Acc: 0.1495\n",
            "Epoch 41 | Train Loss: 0.2803 | Train Acc: 0.8958 | Val Loss: 5.6999 | Val Acc: 0.1595\n",
            "Epoch 42 | Train Loss: 0.2811 | Train Acc: 0.8983 | Val Loss: 4.4885 | Val Acc: 0.1794\n",
            "Epoch 43 | Train Loss: 0.2523 | Train Acc: 0.9017 | Val Loss: 4.2218 | Val Acc: 0.1495\n",
            "Epoch 44 | Train Loss: 0.2466 | Train Acc: 0.9008 | Val Loss: 4.5857 | Val Acc: 0.1728\n",
            "Epoch 45 | Train Loss: 0.2499 | Train Acc: 0.9042 | Val Loss: 5.1433 | Val Acc: 0.1495\n",
            "Epoch 46 | Train Loss: 0.2464 | Train Acc: 0.9025 | Val Loss: 5.3399 | Val Acc: 0.1894\n",
            "Epoch 47 | Train Loss: 0.2145 | Train Acc: 0.9225 | Val Loss: 4.5361 | Val Acc: 0.1960\n",
            "Epoch 48 | Train Loss: 0.2364 | Train Acc: 0.9092 | Val Loss: 5.7278 | Val Acc: 0.1395\n",
            "Epoch 49 | Train Loss: 0.2261 | Train Acc: 0.9108 | Val Loss: 5.8937 | Val Acc: 0.1628\n",
            "Epoch 50 | Train Loss: 0.2090 | Train Acc: 0.9150 | Val Loss: 4.4485 | Val Acc: 0.2027\n",
            "Epoch 51 | Train Loss: 0.1676 | Train Acc: 0.9317 | Val Loss: 6.6905 | Val Acc: 0.1728\n",
            "Epoch 52 | Train Loss: 0.1710 | Train Acc: 0.9350 | Val Loss: 5.2027 | Val Acc: 0.1794\n",
            "Epoch 53 | Train Loss: 0.1740 | Train Acc: 0.9283 | Val Loss: 5.9704 | Val Acc: 0.1661\n",
            "Epoch 54 | Train Loss: 0.1765 | Train Acc: 0.9242 | Val Loss: 4.7977 | Val Acc: 0.1229\n",
            "Epoch 55 | Train Loss: 0.1704 | Train Acc: 0.9308 | Val Loss: 4.6113 | Val Acc: 0.1395\n",
            "Epoch 56 | Train Loss: 0.1681 | Train Acc: 0.9242 | Val Loss: 5.0111 | Val Acc: 0.1761\n",
            "Epoch 57 | Train Loss: 0.1571 | Train Acc: 0.9367 | Val Loss: 6.0334 | Val Acc: 0.1894\n",
            "Epoch 58 | Train Loss: 0.1599 | Train Acc: 0.9292 | Val Loss: 4.8193 | Val Acc: 0.1628\n",
            "Epoch 59 | Train Loss: 0.1497 | Train Acc: 0.9350 | Val Loss: 5.2771 | Val Acc: 0.1761\n",
            "Epoch 60 | Train Loss: 0.1374 | Train Acc: 0.9433 | Val Loss: 5.0923 | Val Acc: 0.1860\n"
          ]
        }
      ]
    },
    {
      "cell_type": "code",
      "source": [
        "mobilenetv2_mfcc = MobileNetV2(num_classes=NUM_CLASSES)\n",
        "\n",
        "train_model(\n",
        "    model=mobilenetv2_mfcc,\n",
        "    train_loader=train_mfcc_loader,\n",
        "    val_loader=val_mfcc_loader,\n",
        "    y=y,\n",
        "    label2id=LABEL2ID,\n",
        "    num_classes=NUM_CLASSES,\n",
        "    project_name=\"cetacean-net\",\n",
        "    architecture=\"MobileNet V2, with MFCC Features\",\n",
        "    epochs=60,\n",
        "    batch_size=BATCH_SIZE,\n",
        "    learning_rate=1e-4,\n",
        "    optimizer_name=\"AdamW\",\n",
        ")"
      ],
      "metadata": {
        "id": "-CWH6XB6JNW5"
      },
      "execution_count": null,
      "outputs": []
    },
    {
      "cell_type": "code",
      "source": [],
      "metadata": {
        "id": "GsyOcLeZJNUE"
      },
      "execution_count": null,
      "outputs": []
    }
  ],
  "metadata": {
    "colab": {
      "provenance": [],
      "include_colab_link": true
    },
    "kernelspec": {
      "display_name": "Python 3",
      "name": "python3"
    },
    "language_info": {
      "name": "python"
    }
  },
  "nbformat": 4,
  "nbformat_minor": 0
}